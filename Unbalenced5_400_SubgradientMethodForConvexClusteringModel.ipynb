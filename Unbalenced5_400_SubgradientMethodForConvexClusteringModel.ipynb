{
  "cells": [
    {
      "cell_type": "markdown",
      "metadata": {
        "id": "view-in-github",
        "colab_type": "text"
      },
      "source": [
        "<a href=\"https://colab.research.google.com/github/PhiLNNT/Academic/blob/Subgradient-method-for-Convex-clustering-model/Unbalenced5_400_SubgradientMethodForConvexClusteringModel.ipynb\" target=\"_parent\"><img src=\"https://colab.research.google.com/assets/colab-badge.svg\" alt=\"Open In Colab\"/></a>"
      ]
    },
    {
      "cell_type": "markdown",
      "metadata": {
        "id": "5ki6yxjhW4U0"
      },
      "source": [
        "# **SUBGARDIENT METHOD FOR SOLVING CONVEX CLUSTERING PROBLEM: 400 POINTS - 5 UNBALANCED CLUSTERS**"
      ]
    },
    {
      "cell_type": "code",
      "execution_count": null,
      "metadata": {
        "id": "yXtTqh7y391B"
      },
      "outputs": [],
      "source": [
        "import numpy as np\n",
        "%matplotlib inline\n",
        "import matplotlib.pyplot as plt\n",
        "from sklearn import datasets\n",
        "import matplotlib.colors as mcolors\n",
        "from random import  uniform\n",
        "from sklearn.datasets import make_blobs"
      ]
    },
    {
      "cell_type": "markdown",
      "source": [
        "# Objective function: $f(x)=g(x)+h(x)$ where\n",
        "$g(x):=\\dfrac{1}{2}\\sum\\limits_{i=1}^n\\left\\|x^i-a^i\\right\\|^2,  h(x):=\\gamma\\sum\\limits_{i<j}\\left\\|x^i-x^j\\right\\|_1$"
      ],
      "metadata": {
        "id": "fhCa87CnChp-"
      }
    },
    {
      "cell_type": "markdown",
      "metadata": {
        "id": "tFatuD3bXTlo"
      },
      "source": [
        "# Define subgradient algorithm function"
      ]
    },
    {
      "cell_type": "code",
      "execution_count": null,
      "metadata": {
        "id": "KIF9NhEyQ792"
      },
      "outputs": [],
      "source": [
        "def Loss(x):\n",
        "    g=np.linalg.norm(x-a)\n",
        "    x_bar=np.tile(x.reshape((-1,d)),n)\n",
        "    h=x_bar-np.transpose(x)\n",
        "    h_l1=np.sum(h[h>=0])\n",
        "    L=0.5*g**2+h_l1\n",
        "    return L,h\n",
        "def subgradient(x):\n",
        "    t=np.array([])\n",
        "    x = np.where(x==0, uniform(-1, 1),np.sign(x))\n",
        "    for i in range(0,n+1):\n",
        "        x[i-1,0:d*(i)]=0\n",
        "        t=np.hstack((t,x[i-1,d*(i):d*n]))\n",
        "    return K@t[n*d:]\n",
        "def subgradient_descent(x,step_size=0.01,iter=100):\n",
        "    lst_cost=[]\n",
        "    lst_x=[]\n",
        "    new_cost,h=Loss(x)\n",
        "    lst_cost.append(new_cost)\n",
        "    lst_x.append(x)\n",
        "    for i in range(1,iter+1):\n",
        "\n",
        "        v=mu*subgradient(h)+(x-a)\n",
        "\n",
        "        if np.linalg.norm(v)<1e-8:\n",
        "            lst_cost.append(new_cost)\n",
        "            lst_x.append(x)\n",
        "            print('Stopped by subgradient = 0 at ',i,'-th iterattion')\n",
        "            return  lst_cost,lst_x,i\n",
        "\n",
        "        if i <10:\n",
        "            x=x-step_size*v/(np.linalg.norm(v)*(i))\n",
        "            #x=x-step_size*v\n",
        "            #x=x-step_size*v/(np.linalg.norm(v)*np.sqrt(i))\n",
        "\n",
        "        else:\n",
        "            #x=x-step_size*v/(np.linalg.norm(v)*np.sqrt(i))\n",
        "            x=x-step_size*v/(np.linalg.norm(v)*np.log10(i))\n",
        "\n",
        "        new_cost,h=Loss(x)\n",
        "\n",
        "        if i%10==1:\n",
        "            print('iter %d' %i + ' cost: %.6f' %new_cost)\n",
        "            #print(v)\n",
        "\n",
        "        if abs(new_cost-lst_cost[-1])<1e-20:\n",
        "            lst_cost.append(new_cost)\n",
        "            lst_x.append(x)\n",
        "            print('Stopped by early stopping at ',i,'-th iterattion')\n",
        "            return  lst_cost,lst_x,i\n",
        "        lst_cost.append(new_cost)\n",
        "        lst_x.append(x)\n",
        "    print('Stopped by max iteration')\n",
        "    return lst_cost,lst_x,i"
      ]
    },
    {
      "cell_type": "markdown",
      "metadata": {
        "id": "zITgCcbfXZxe"
      },
      "source": [
        "# Run algorithm"
      ]
    },
    {
      "cell_type": "markdown",
      "metadata": {
        "id": "cykQNu7Oaij-"
      },
      "source": [
        "## Initial data step"
      ]
    },
    {
      "cell_type": "code",
      "source": [
        "n=400\n",
        "d=2\n",
        "mu=0.0008"
      ],
      "metadata": {
        "id": "zLOqR3XUJDbK"
      },
      "execution_count": null,
      "outputs": []
    },
    {
      "cell_type": "code",
      "execution_count": null,
      "metadata": {
        "colab": {
          "base_uri": "https://localhost:8080/"
        },
        "id": "-PxmiPllse7A",
        "outputId": "ee4e8eab-a43d-40fd-cb5e-4a666ccae8a5"
      },
      "outputs": [
        {
          "output_type": "stream",
          "name": "stdout",
          "text": [
            "(800,)\n"
          ]
        }
      ],
      "source": [
        "#Tạo các tâm và các bộ điểm\n",
        "centers = [[0, 1], [1, 0], [0,0], [-1,0], [0,-1]]\n",
        "stds = [0.13, 0.12, 0.15, 0.14, 0.11]\n",
        "X1, labels_true1 = make_blobs(n_samples=100, centers=[[0,1]], cluster_std=0.13, random_state=0)\n",
        "X2, labels_true2 = make_blobs(n_samples=50, centers=[[1, 0]], cluster_std=0.12, random_state=1)\n",
        "X3, labels_true3 = make_blobs(n_samples=150, centers=[[0,0]], cluster_std=0.15, random_state=0)\n",
        "X4, labels_true4 = make_blobs(n_samples=25, centers=[[-1,0]], cluster_std=0.14, random_state=3)\n",
        "X5, labels_true5 = make_blobs(n_samples=75, centers=[[0,-1]], cluster_std=0.11, random_state=4)\n",
        "X=np.vstack((X1,X2))\n",
        "X=np.vstack((X,X3))\n",
        "X=np.vstack((X,X4))\n",
        "X=np.vstack((X,X5))\n",
        "Y=(np.transpose(X))\n",
        "Y=np.split(Y,n,axis=1)\n",
        "a=Y[0]\n",
        "for i in range(1,n):\n",
        "  a=np.vstack((a, Y[i]))\n",
        "a=np.transpose(a)\n",
        "a=a.ravel().tolist()\n",
        "np.random.seed(2)\n",
        "x=np.random.randint(1,10,(d*n))\n",
        "print(x.shape)"
      ]
    },
    {
      "cell_type": "code",
      "source": [
        "I=np.identity(d*n)\n",
        "J=np.hsplit(I,n)\n",
        "O=np.zeros((d*n, d*n))\n",
        "O=np.hsplit(O,n)\n",
        "for i in range(0,n-1):\n",
        "    J[i]=np.tile(J[i],n-i-1)-np.delete(I, slice(0,(i+1)*d), axis=1)\n",
        "K=J[0]\n",
        "for i in range(1,n-1):\n",
        "    K=np.hstack((K,J[i]))\n",
        "print(K.shape)"
      ],
      "metadata": {
        "colab": {
          "base_uri": "https://localhost:8080/"
        },
        "id": "PRmBlLJq_Vun",
        "outputId": "f6d0b736-5d1a-46d4-b959-ac5b81aa6b57"
      },
      "execution_count": null,
      "outputs": [
        {
          "output_type": "stream",
          "name": "stdout",
          "text": [
            "(800, 159600)\n"
          ]
        }
      ]
    },
    {
      "cell_type": "markdown",
      "metadata": {
        "id": "4l55UDVHbBEN"
      },
      "source": [
        "## General step"
      ]
    },
    {
      "cell_type": "code",
      "execution_count": null,
      "metadata": {
        "colab": {
          "base_uri": "https://localhost:8080/"
        },
        "id": "36XDWOiFYxC7",
        "outputId": "c448f04c-3f42-4403-9409-a2eaaa450a30"
      },
      "outputs": [
        {
          "output_type": "stream",
          "name": "stdout",
          "text": [
            "iter 1 cost: 486733.600229\n",
            "iter 11 cost: 484231.151146\n",
            "iter 21 cost: 478755.767671\n",
            "iter 31 cost: 474105.805670\n",
            "iter 41 cost: 469878.132011\n",
            "iter 51 cost: 465920.912567\n",
            "iter 61 cost: 462157.150141\n",
            "iter 71 cost: 458541.298363\n",
            "iter 81 cost: 455043.699184\n",
            "iter 91 cost: 451643.721457\n",
            "iter 101 cost: 448326.302353\n",
            "iter 111 cost: 445080.030070\n",
            "iter 121 cost: 441896.002578\n",
            "iter 131 cost: 438767.109258\n",
            "iter 141 cost: 435687.558116\n",
            "iter 151 cost: 432652.553005\n",
            "iter 161 cost: 429658.066245\n",
            "iter 171 cost: 426700.674355\n",
            "iter 181 cost: 423777.436534\n",
            "iter 191 cost: 420885.803093\n",
            "iter 201 cost: 418023.545165\n",
            "iter 211 cost: 415188.700090\n",
            "iter 221 cost: 412379.528123\n",
            "iter 231 cost: 409594.477980\n",
            "iter 241 cost: 406832.158937\n",
            "iter 251 cost: 404091.318066\n",
            "iter 261 cost: 401370.821561\n",
            "iter 271 cost: 398669.639079\n",
            "iter 281 cost: 395986.830825\n",
            "iter 291 cost: 393321.536509\n",
            "iter 301 cost: 390672.966101\n",
            "iter 311 cost: 388040.391861\n",
            "iter 321 cost: 385423.141549\n",
            "iter 331 cost: 382820.592532\n",
            "iter 341 cost: 380232.166747\n",
            "iter 351 cost: 377657.326202\n",
            "iter 361 cost: 375095.569137\n",
            "iter 371 cost: 372546.426638\n",
            "iter 381 cost: 370009.459598\n",
            "iter 391 cost: 367484.256143\n",
            "iter 401 cost: 364970.429154\n",
            "iter 411 cost: 362467.614315\n",
            "iter 421 cost: 359975.468134\n",
            "iter 431 cost: 357493.666336\n",
            "iter 441 cost: 355021.902302\n",
            "iter 451 cost: 352559.885767\n",
            "iter 461 cost: 350107.341584\n",
            "iter 471 cost: 347664.008592\n",
            "iter 481 cost: 345229.638649\n",
            "iter 491 cost: 342803.995673\n",
            "iter 501 cost: 340386.854898\n",
            "iter 511 cost: 337978.038400\n",
            "iter 521 cost: 335577.397854\n",
            "iter 531 cost: 333184.872159\n",
            "iter 541 cost: 330800.554154\n",
            "iter 551 cost: 328424.427129\n",
            "iter 561 cost: 326056.755992\n",
            "iter 571 cost: 323697.596804\n",
            "iter 581 cost: 321347.348177\n",
            "iter 591 cost: 319005.976639\n",
            "iter 601 cost: 316673.641359\n",
            "iter 611 cost: 314349.988419\n",
            "iter 621 cost: 312035.168885\n",
            "iter 631 cost: 309728.388455\n",
            "iter 641 cost: 307429.265420\n",
            "iter 651 cost: 305137.406777\n",
            "iter 661 cost: 302852.563051\n",
            "iter 671 cost: 300574.447789\n",
            "iter 681 cost: 298302.510700\n",
            "iter 691 cost: 296036.576472\n",
            "iter 701 cost: 293776.351595\n",
            "iter 711 cost: 291521.679869\n",
            "iter 721 cost: 289272.501230\n",
            "iter 731 cost: 287028.643120\n",
            "iter 741 cost: 284789.993218\n",
            "iter 751 cost: 282556.468224\n",
            "iter 761 cost: 280328.046012\n",
            "iter 771 cost: 278104.815298\n",
            "iter 781 cost: 275886.892070\n",
            "iter 791 cost: 273674.143910\n",
            "iter 801 cost: 271466.955323\n",
            "iter 811 cost: 269265.223243\n",
            "iter 821 cost: 267069.198453\n",
            "iter 831 cost: 264879.014316\n",
            "iter 841 cost: 262694.979326\n",
            "iter 851 cost: 260517.343844\n",
            "iter 861 cost: 258346.421653\n",
            "iter 871 cost: 256182.531861\n",
            "iter 881 cost: 254025.871918\n",
            "iter 891 cost: 251876.716976\n",
            "iter 901 cost: 249735.217389\n",
            "iter 911 cost: 247602.155270\n",
            "iter 921 cost: 245478.002165\n",
            "iter 931 cost: 243363.325386\n",
            "iter 941 cost: 241258.349101\n",
            "iter 951 cost: 239163.003559\n",
            "iter 961 cost: 237077.444496\n",
            "iter 971 cost: 235001.893163\n",
            "iter 981 cost: 232936.621204\n",
            "iter 991 cost: 230880.930401\n",
            "iter 1001 cost: 228834.434852\n",
            "iter 1011 cost: 226796.267701\n",
            "iter 1021 cost: 224766.040312\n",
            "iter 1031 cost: 222743.930809\n",
            "iter 1041 cost: 220728.670147\n",
            "iter 1051 cost: 218719.947621\n",
            "iter 1061 cost: 216717.721044\n",
            "iter 1071 cost: 214721.174620\n",
            "iter 1081 cost: 212729.986406\n",
            "iter 1091 cost: 210743.781911\n",
            "iter 1101 cost: 208762.255121\n",
            "iter 1111 cost: 206785.110463\n",
            "iter 1121 cost: 204812.650356\n",
            "iter 1131 cost: 202844.449848\n",
            "iter 1141 cost: 200880.612548\n",
            "iter 1151 cost: 198921.546597\n",
            "iter 1161 cost: 196967.589671\n",
            "iter 1171 cost: 195019.574884\n",
            "iter 1181 cost: 193077.515269\n",
            "iter 1191 cost: 191141.433435\n",
            "iter 1201 cost: 189211.733299\n",
            "iter 1211 cost: 187288.683571\n",
            "iter 1221 cost: 185372.316409\n",
            "iter 1231 cost: 183462.835781\n",
            "iter 1241 cost: 181560.352314\n",
            "iter 1251 cost: 179665.398090\n",
            "iter 1261 cost: 177777.838133\n",
            "iter 1271 cost: 175897.963888\n",
            "iter 1281 cost: 174026.053376\n",
            "iter 1291 cost: 172161.866878\n",
            "iter 1301 cost: 170306.195319\n",
            "iter 1311 cost: 168459.392512\n",
            "iter 1321 cost: 166621.534740\n",
            "iter 1331 cost: 164793.774662\n",
            "iter 1341 cost: 162976.038200\n",
            "iter 1351 cost: 161167.906905\n",
            "iter 1361 cost: 159370.019684\n",
            "iter 1371 cost: 157581.807718\n",
            "iter 1381 cost: 155803.188395\n",
            "iter 1391 cost: 154034.593904\n",
            "iter 1401 cost: 152275.237868\n",
            "iter 1411 cost: 150525.965512\n",
            "iter 1421 cost: 148787.002224\n",
            "iter 1431 cost: 147057.992237\n",
            "iter 1441 cost: 145339.452681\n",
            "iter 1451 cost: 143630.915292\n",
            "iter 1461 cost: 141932.035043\n",
            "iter 1471 cost: 140243.754070\n",
            "iter 1481 cost: 138566.466094\n",
            "iter 1491 cost: 136900.658471\n",
            "iter 1501 cost: 135247.046818\n",
            "iter 1511 cost: 133606.317061\n",
            "iter 1521 cost: 131979.266096\n",
            "iter 1531 cost: 130365.148260\n",
            "iter 1541 cost: 128764.147301\n",
            "iter 1551 cost: 127176.428464\n",
            "iter 1561 cost: 125602.610617\n",
            "iter 1571 cost: 124044.183270\n",
            "iter 1581 cost: 122499.981039\n",
            "iter 1591 cost: 120971.960253\n",
            "iter 1601 cost: 119458.328069\n",
            "iter 1611 cost: 117959.484082\n",
            "iter 1621 cost: 116475.309160\n",
            "iter 1631 cost: 115006.703916\n",
            "iter 1641 cost: 113553.157772\n",
            "iter 1651 cost: 112115.665694\n",
            "iter 1661 cost: 110694.273770\n",
            "iter 1671 cost: 109289.809199\n",
            "iter 1681 cost: 107901.566216\n",
            "iter 1691 cost: 106530.138017\n",
            "iter 1701 cost: 105176.702383\n",
            "iter 1711 cost: 103841.131198\n",
            "iter 1721 cost: 102524.875524\n",
            "iter 1731 cost: 101229.038724\n",
            "iter 1741 cost: 99953.861008\n",
            "iter 1751 cost: 98698.650209\n",
            "iter 1761 cost: 97464.945552\n",
            "iter 1771 cost: 96253.712985\n",
            "iter 1781 cost: 95065.618610\n",
            "iter 1791 cost: 93900.182179\n",
            "iter 1801 cost: 92758.863839\n",
            "iter 1811 cost: 91641.582277\n",
            "iter 1821 cost: 90547.751125\n",
            "iter 1831 cost: 89478.704838\n",
            "iter 1841 cost: 88433.685118\n",
            "iter 1851 cost: 87412.739733\n",
            "iter 1861 cost: 86415.636383\n",
            "iter 1871 cost: 85442.788170\n",
            "iter 1881 cost: 84490.193470\n",
            "iter 1891 cost: 83556.136260\n",
            "iter 1901 cost: 82639.804876\n",
            "iter 1911 cost: 81738.551693\n",
            "iter 1921 cost: 80852.326525\n",
            "iter 1931 cost: 79979.666033\n",
            "iter 1941 cost: 79120.399979\n",
            "iter 1951 cost: 78273.566344\n",
            "iter 1961 cost: 77439.201308\n",
            "iter 1971 cost: 76616.456590\n",
            "iter 1981 cost: 75806.721999\n",
            "iter 1991 cost: 75010.535564\n",
            "iter 2001 cost: 74228.979135\n",
            "iter 2011 cost: 73464.552970\n",
            "iter 2021 cost: 72719.100525\n",
            "iter 2031 cost: 71992.486935\n",
            "iter 2041 cost: 71286.145461\n",
            "iter 2051 cost: 70602.168493\n",
            "iter 2061 cost: 69941.987497\n",
            "iter 2071 cost: 69308.584402\n",
            "iter 2081 cost: 68703.344189\n",
            "iter 2091 cost: 68126.561022\n",
            "iter 2101 cost: 67578.685893\n",
            "iter 2111 cost: 67057.900147\n",
            "iter 2121 cost: 66561.355798\n",
            "iter 2131 cost: 66087.015181\n",
            "iter 2141 cost: 65631.454109\n",
            "iter 2151 cost: 65190.613729\n",
            "iter 2161 cost: 64765.356015\n",
            "iter 2171 cost: 64390.363366\n",
            "iter 2181 cost: 64125.265057\n",
            "iter 2191 cost: 63933.043315\n",
            "iter 2201 cost: 63778.006545\n",
            "iter 2211 cost: 63653.144304\n",
            "iter 2221 cost: 63555.378748\n",
            "iter 2231 cost: 63481.084376\n",
            "iter 2241 cost: 63424.324184\n",
            "iter 2251 cost: 63385.085542\n",
            "iter 2261 cost: 63357.981110\n",
            "iter 2271 cost: 63339.454037\n",
            "iter 2281 cost: 63327.338546\n",
            "iter 2291 cost: 63318.785647\n",
            "iter 2301 cost: 63313.394343\n",
            "iter 2311 cost: 63309.620639\n",
            "iter 2321 cost: 63306.940284\n",
            "iter 2331 cost: 63305.434043\n",
            "iter 2341 cost: 63304.703078\n",
            "iter 2351 cost: 63303.347240\n",
            "iter 2361 cost: 63302.897628\n",
            "iter 2371 cost: 63302.789441\n",
            "iter 2381 cost: 63302.416690\n",
            "iter 2391 cost: 63302.043470\n",
            "iter 2401 cost: 63302.000387\n",
            "iter 2411 cost: 63301.893923\n",
            "iter 2421 cost: 63301.768684\n",
            "iter 2431 cost: 63301.574979\n",
            "iter 2441 cost: 63301.409135\n",
            "iter 2451 cost: 63301.475905\n",
            "iter 2461 cost: 63301.392130\n",
            "iter 2471 cost: 63301.250683\n",
            "iter 2481 cost: 63301.345061\n",
            "iter 2491 cost: 63301.048812\n",
            "iter 2501 cost: 63301.143248\n",
            "iter 2511 cost: 63300.852616\n",
            "iter 2521 cost: 63300.974754\n",
            "iter 2531 cost: 63300.892413\n",
            "iter 2541 cost: 63300.876423\n",
            "iter 2551 cost: 63300.921150\n",
            "iter 2561 cost: 63300.817627\n",
            "iter 2571 cost: 63300.657285\n",
            "iter 2581 cost: 63300.523828\n",
            "iter 2591 cost: 63300.465073\n",
            "iter 2601 cost: 63300.541037\n",
            "iter 2611 cost: 63300.283786\n",
            "iter 2621 cost: 63300.409054\n",
            "iter 2631 cost: 63300.082525\n",
            "iter 2641 cost: 63300.292287\n",
            "iter 2651 cost: 63300.222963\n",
            "iter 2661 cost: 63299.856904\n",
            "iter 2671 cost: 63300.248087\n",
            "iter 2681 cost: 63299.963060\n",
            "iter 2691 cost: 63299.671217\n",
            "iter 2701 cost: 63299.685772\n",
            "iter 2711 cost: 63299.614255\n",
            "iter 2721 cost: 63299.503073\n",
            "iter 2731 cost: 63299.451497\n",
            "iter 2741 cost: 63299.535780\n",
            "iter 2751 cost: 63299.292290\n",
            "iter 2761 cost: 63299.296636\n",
            "iter 2771 cost: 63299.156664\n",
            "iter 2781 cost: 63299.283809\n",
            "iter 2791 cost: 63299.157027\n",
            "iter 2801 cost: 63299.195904\n",
            "iter 2811 cost: 63299.168405\n",
            "iter 2821 cost: 63299.080599\n",
            "iter 2831 cost: 63298.915166\n",
            "iter 2841 cost: 63298.701282\n",
            "iter 2851 cost: 63298.839461\n",
            "iter 2861 cost: 63298.597195\n",
            "iter 2871 cost: 63298.832229\n",
            "iter 2881 cost: 63298.711942\n",
            "iter 2891 cost: 63298.933841\n",
            "iter 2901 cost: 63298.579569\n",
            "iter 2911 cost: 63298.601630\n",
            "iter 2921 cost: 63298.416521\n",
            "iter 2931 cost: 63298.238746\n",
            "iter 2941 cost: 63298.279652\n",
            "iter 2951 cost: 63298.095052\n",
            "iter 2961 cost: 63298.328960\n",
            "iter 2971 cost: 63297.851885\n",
            "iter 2981 cost: 63298.143872\n",
            "iter 2991 cost: 63298.121565\n",
            "iter 3001 cost: 63297.919104\n",
            "iter 3011 cost: 63298.116332\n",
            "iter 3021 cost: 63297.793094\n",
            "iter 3031 cost: 63297.873515\n",
            "iter 3041 cost: 63297.785801\n",
            "iter 3051 cost: 63297.799646\n",
            "iter 3061 cost: 63297.799141\n",
            "iter 3071 cost: 63297.481218\n",
            "iter 3081 cost: 63297.209658\n",
            "iter 3091 cost: 63297.471594\n",
            "iter 3101 cost: 63297.506228\n",
            "iter 3111 cost: 63297.115892\n",
            "iter 3121 cost: 63297.162763\n",
            "iter 3131 cost: 63297.308420\n",
            "iter 3141 cost: 63297.133627\n",
            "iter 3151 cost: 63297.006734\n",
            "iter 3161 cost: 63296.769507\n",
            "iter 3171 cost: 63297.056557\n",
            "iter 3181 cost: 63296.758852\n",
            "iter 3191 cost: 63296.910020\n",
            "iter 3201 cost: 63296.904059\n",
            "iter 3211 cost: 63296.634715\n",
            "iter 3221 cost: 63296.792563\n",
            "iter 3231 cost: 63296.707498\n",
            "iter 3241 cost: 63296.819649\n",
            "iter 3251 cost: 63296.633852\n",
            "iter 3261 cost: 63296.614046\n",
            "iter 3271 cost: 63296.605737\n",
            "iter 3281 cost: 63296.413168\n",
            "iter 3291 cost: 63296.522805\n",
            "iter 3301 cost: 63296.253064\n",
            "iter 3311 cost: 63296.133351\n",
            "iter 3321 cost: 63296.308326\n",
            "iter 3331 cost: 63296.257260\n",
            "iter 3341 cost: 63296.104312\n",
            "iter 3351 cost: 63295.969333\n",
            "iter 3361 cost: 63296.052612\n",
            "iter 3371 cost: 63295.932786\n",
            "iter 3381 cost: 63295.811508\n",
            "iter 3391 cost: 63296.027163\n",
            "iter 3401 cost: 63295.944135\n",
            "iter 3411 cost: 63295.757350\n",
            "iter 3421 cost: 63295.653373\n",
            "iter 3431 cost: 63295.645870\n",
            "iter 3441 cost: 63295.580749\n",
            "iter 3451 cost: 63295.668025\n",
            "iter 3461 cost: 63295.714879\n",
            "iter 3471 cost: 63295.761408\n",
            "iter 3481 cost: 63295.555132\n",
            "iter 3491 cost: 63295.342395\n",
            "iter 3501 cost: 63295.400268\n",
            "iter 3511 cost: 63295.219221\n",
            "iter 3521 cost: 63295.176929\n",
            "iter 3531 cost: 63295.098863\n",
            "iter 3541 cost: 63295.408898\n",
            "iter 3551 cost: 63295.091566\n",
            "iter 3561 cost: 63294.928578\n",
            "iter 3571 cost: 63295.166554\n",
            "iter 3581 cost: 63295.214700\n",
            "iter 3591 cost: 63294.942154\n",
            "iter 3601 cost: 63295.115167\n",
            "iter 3611 cost: 63294.894593\n",
            "iter 3621 cost: 63294.927472\n",
            "iter 3631 cost: 63294.854862\n",
            "iter 3641 cost: 63294.720227\n",
            "iter 3651 cost: 63294.556962\n",
            "iter 3661 cost: 63294.585909\n",
            "iter 3671 cost: 63294.476903\n",
            "iter 3681 cost: 63294.811850\n",
            "iter 3691 cost: 63294.602633\n",
            "iter 3701 cost: 63294.511269\n",
            "iter 3711 cost: 63294.664322\n",
            "iter 3721 cost: 63294.496956\n",
            "iter 3731 cost: 63294.549718\n",
            "iter 3741 cost: 63294.050155\n",
            "iter 3751 cost: 63294.353492\n",
            "iter 3761 cost: 63294.106651\n",
            "iter 3771 cost: 63294.359962\n",
            "iter 3781 cost: 63293.989837\n",
            "iter 3791 cost: 63294.157889\n",
            "iter 3801 cost: 63294.106619\n",
            "iter 3811 cost: 63293.908829\n",
            "iter 3821 cost: 63293.888850\n",
            "iter 3831 cost: 63294.003766\n",
            "iter 3841 cost: 63293.932712\n",
            "iter 3851 cost: 63293.993668\n",
            "iter 3861 cost: 63294.039321\n",
            "iter 3871 cost: 63293.840273\n",
            "iter 3881 cost: 63293.727900\n",
            "iter 3891 cost: 63293.471581\n",
            "iter 3901 cost: 63293.848618\n",
            "iter 3911 cost: 63293.680457\n",
            "iter 3921 cost: 63293.525182\n",
            "iter 3931 cost: 63293.469236\n",
            "iter 3941 cost: 63293.723048\n",
            "iter 3951 cost: 63293.547555\n",
            "iter 3961 cost: 63293.285133\n",
            "iter 3971 cost: 63293.246347\n",
            "iter 3981 cost: 63293.411137\n",
            "iter 3991 cost: 63293.270161\n",
            "iter 4001 cost: 63293.221816\n",
            "iter 4011 cost: 63293.116298\n",
            "iter 4021 cost: 63293.197639\n",
            "iter 4031 cost: 63293.270157\n",
            "iter 4041 cost: 63293.034759\n",
            "iter 4051 cost: 63293.100920\n",
            "iter 4061 cost: 63292.929589\n",
            "iter 4071 cost: 63293.080783\n",
            "iter 4081 cost: 63293.058789\n",
            "iter 4091 cost: 63292.919274\n",
            "iter 4101 cost: 63292.827531\n",
            "iter 4111 cost: 63292.770196\n",
            "iter 4121 cost: 63292.966327\n",
            "iter 4131 cost: 63292.763698\n",
            "iter 4141 cost: 63292.441517\n",
            "iter 4151 cost: 63292.969021\n",
            "iter 4161 cost: 63292.715173\n",
            "iter 4171 cost: 63292.758815\n",
            "iter 4181 cost: 63292.564216\n",
            "iter 4191 cost: 63292.395542\n",
            "iter 4201 cost: 63292.433287\n",
            "iter 4211 cost: 63292.257725\n",
            "iter 4221 cost: 63292.508850\n",
            "iter 4231 cost: 63292.525030\n",
            "iter 4241 cost: 63292.445169\n",
            "iter 4251 cost: 63292.494390\n",
            "iter 4261 cost: 63292.437953\n",
            "iter 4271 cost: 63292.210020\n",
            "iter 4281 cost: 63292.181975\n",
            "iter 4291 cost: 63292.363242\n",
            "iter 4301 cost: 63292.361684\n",
            "iter 4311 cost: 63292.035283\n",
            "iter 4321 cost: 63292.269863\n",
            "iter 4331 cost: 63292.064868\n",
            "iter 4341 cost: 63291.789607\n",
            "iter 4351 cost: 63292.101433\n",
            "iter 4361 cost: 63291.992580\n",
            "iter 4371 cost: 63291.867692\n",
            "iter 4381 cost: 63291.974804\n",
            "iter 4391 cost: 63291.927253\n",
            "iter 4401 cost: 63291.968484\n",
            "iter 4411 cost: 63291.594863\n",
            "iter 4421 cost: 63291.894772\n",
            "iter 4431 cost: 63291.846671\n",
            "iter 4441 cost: 63291.504533\n",
            "iter 4451 cost: 63291.816036\n",
            "iter 4461 cost: 63291.513261\n",
            "iter 4471 cost: 63291.451059\n",
            "iter 4481 cost: 63291.422052\n",
            "iter 4491 cost: 63291.420989\n",
            "iter 4501 cost: 63291.598868\n",
            "iter 4511 cost: 63291.587796\n",
            "iter 4521 cost: 63291.278974\n",
            "iter 4531 cost: 63291.409880\n",
            "iter 4541 cost: 63291.294574\n",
            "iter 4551 cost: 63291.198216\n",
            "iter 4561 cost: 63291.102472\n",
            "iter 4571 cost: 63291.237883\n",
            "iter 4581 cost: 63291.117718\n",
            "iter 4591 cost: 63291.142839\n",
            "iter 4601 cost: 63291.422435\n",
            "iter 4611 cost: 63291.004655\n",
            "iter 4621 cost: 63291.102058\n",
            "iter 4631 cost: 63290.990139\n",
            "iter 4641 cost: 63291.191344\n",
            "iter 4651 cost: 63290.976825\n",
            "iter 4661 cost: 63290.837267\n",
            "iter 4671 cost: 63290.899032\n",
            "iter 4681 cost: 63290.955743\n",
            "iter 4691 cost: 63290.996489\n",
            "iter 4701 cost: 63290.879540\n",
            "iter 4711 cost: 63290.774159\n",
            "iter 4721 cost: 63290.783171\n",
            "iter 4731 cost: 63290.670681\n",
            "iter 4741 cost: 63290.806346\n",
            "iter 4751 cost: 63290.601917\n",
            "iter 4761 cost: 63290.711697\n",
            "iter 4771 cost: 63290.505039\n",
            "iter 4781 cost: 63290.469457\n",
            "iter 4791 cost: 63290.449098\n",
            "iter 4801 cost: 63290.362869\n",
            "iter 4811 cost: 63290.539592\n",
            "iter 4821 cost: 63290.609496\n",
            "iter 4831 cost: 63290.327963\n",
            "iter 4841 cost: 63290.346292\n",
            "iter 4851 cost: 63290.448297\n",
            "iter 4861 cost: 63290.330767\n",
            "iter 4871 cost: 63290.201328\n",
            "iter 4881 cost: 63290.250133\n",
            "iter 4891 cost: 63290.037576\n",
            "iter 4901 cost: 63290.166654\n",
            "iter 4911 cost: 63290.242513\n",
            "iter 4921 cost: 63290.190514\n",
            "iter 4931 cost: 63290.221612\n",
            "iter 4941 cost: 63290.010978\n",
            "iter 4951 cost: 63289.839669\n",
            "iter 4961 cost: 63289.872709\n",
            "iter 4971 cost: 63289.974312\n",
            "iter 4981 cost: 63289.864258\n",
            "iter 4991 cost: 63289.725319\n",
            "Stopped by max iteration\n",
            "CPU times: user 20min 42s, sys: 3min 44s, total: 24min 26s\n",
            "Wall time: 14min 19s\n"
          ]
        }
      ],
      "source": [
        "%%time\n",
        "lst_cost, lst_x,iter =subgradient_descent(x,step_size=0.2,iter=5000)"
      ]
    },
    {
      "cell_type": "code",
      "execution_count": null,
      "metadata": {
        "colab": {
          "base_uri": "https://localhost:8080/"
        },
        "id": "OpETDRrD7zd_",
        "outputId": "1bdd5a56-26fa-4e8b-bbf0-a4102ccc37ed"
      },
      "outputs": [
        {
          "output_type": "stream",
          "name": "stdout",
          "text": [
            "5001\n",
            "5001\n",
            "best iteration:  5000\n",
            "best cost fuction:  63289.667584867566\n"
          ]
        }
      ],
      "source": [
        "print(len(lst_cost))\n",
        "print(len(lst_x))\n",
        "print('best iteration: ', lst_cost.index(min(lst_cost)))\n",
        "print('best cost fuction: ',min(lst_cost))\n",
        "#print('best object: ',lst_x[lst_cost.index(min(lst_cost))])"
      ]
    },
    {
      "cell_type": "markdown",
      "metadata": {
        "id": "fif0Kheya0nW"
      },
      "source": [
        "#**Graph**"
      ]
    },
    {
      "cell_type": "code",
      "source": [
        "odds = [a[n] for n in range(n*d) if n%2]\n",
        "even = [a[n] for n in range(n*d) if n%2==0]\n",
        "x1 = even\n",
        "y1 = np.array(odds)\n",
        "plt.plot(x1, y1, 'o', color='black');\n",
        "plt.title(\"Input\");"
      ],
      "metadata": {
        "colab": {
          "base_uri": "https://localhost:8080/",
          "height": 281
        },
        "id": "o1-RsJYhaIiZ",
        "outputId": "cff7faf3-be9f-452b-cf0e-a63c10ceed34"
      },
      "execution_count": null,
      "outputs": [
        {
          "output_type": "display_data",
          "data": {
            "text/plain": [
              "<Figure size 432x288 with 1 Axes>"
            ],
            "image/png": "[encoded data removed]"
          },
          "metadata": {
            "needs_background": "light"
          }
        }
      ]
    },
    {
      "cell_type": "code",
      "source": [
        "x1=lst_x[lst_cost.index(min(lst_cost))]\n",
        "odds = [a[n] for n in range(n*d) if n%2]\n",
        "even = [a[n] for n in range(n*d) if n%2==0]\n",
        "odds1 = [x1[n] for n in range(n*d) if n%2]\n",
        "even1 = [x1[n] for n in range(n*d) if n%2==0]\n",
        "print(a)\n",
        "x1 = even\n",
        "y1 = np.array(odds)\n",
        "plt.plot(x1, y1, 'o', color='black');\n",
        "plt.title(\"Input\");\n",
        "x2 = even1\n",
        "y2 = np.array(odds1)\n",
        "plt.plot(x2, y2, 'o', color='red');"
      ],
      "metadata": {
        "colab": {
          "base_uri": "https://localhost:8080/",
          "height": 318
        },
        "id": "-GVQLTSd935H",
        "outputId": "2a741f02-d2fa-4660-b2eb-04b16df722ba"
      },
      "execution_count": null,
      "outputs": [
        {
          "output_type": "stream",
          "name": "stdout",
          "text": [
            "[0.02014316534059912, 1.0491611275482826, -0.08367039236827577, 0.7109575902108245, 0.008647238909811826, 1.0393213467061715, -0.14356983412569857, 1.0067814603039267, -0.05921922545725461, 1.0022722906732573, 0.1992612978665995, 1.191016640087037, 0.02306539849298787, 0.947768478292926, -0.08265999018925453, 1.087936328343045, 0.15324134425075459, 0.9766097713443944, -0.22181512478125165, 1.2536008013801327, 0.15444387300579923, 1.0412025395502305, -0.11794878736982149, 1.0067529014534982, 0.08739831841161662, 1.0529700387113443, -0.0127988281753062, 0.9137478227729261, 0.2812206734064897, 1.1737486334267309, 0.01872566425091414, 1.1890555559051867, -0.00887140869220206, 1.2227345538144176, 0.07983031814499043, 1.1198868673036484, 0.07495680615994232, 0.9729211617748607, -0.09029382176507751, 0.9805475097574028, -0.10008908967789114, 1.0701023948679362, -0.0664046678839535, 0.8465178160640864, 0.02707574714999184, 1.1269630747428827, 0.05230441335308137, 0.9109746881777593, 0.04632763163267225, 1.0918545118649532, 0.11237670585173574, 0.9035185473471625, -0.05241300310651335, 1.1589178591497156, 0.2427825387194958, 0.8729538756160666, -0.15146947930183635, 1.1171074433040444, 0.24480959061731308, 0.824791322051482, 0.1599377884946037, 1.1563093803419735, 0.295068101118389, 0.8109324623021605, -0.1525060426648408, 1.252670754134408, 0.08128008863353438, 0.7917325047711228, 0.10033277165777676, 1.107055540015285, -0.13002799516064342, 0.7991797574189105, -0.16807139826404832, 1.0347166130153937, -0.10570901666577903, 0.775583261696882, -0.13445156943198042, 1.0886072873766115, 0.3098088207323125, 1.1227823333087539, -0.33188867605843025, 1.084970417407247, 0.1464626698738459, 0.859608903912755, -0.17106796336649777, 0.9399940013740878, 0.11971164709150647, 1.0414345948825927, 0.038770962646787276, 1.172430166569314, 0.1272359379337461, 1.2913161158961894, 0.19347278519342798, 1.2464655928839758, 0.12351149427832663, 0.9803235629212993, 0.0013650026937066624, 1.2321631642077586, 0.051480872646013885, 0.8579020038650342, -0.04522857941239984, 1.0203253659835174, 0.1481220889906291, 0.8394726433540252, -0.0503524862630338, 0.9607006424252064, 0.22932680497579633, 1.052020437087739, 0.04069880121461718, 0.8889675538907758, -0.005106766369574429, 0.8481478452936444, 0.06053611716495978, 0.8002883207839608, -0.10444325634259935, 0.9103585288924739, -0.15930661744792185, 1.1097671869322012, 0.11138797954734986, 0.915366672870981, -0.05656996172381287, 1.2404042847023145, 0.2427826648554541, 1.1177858055758, -0.053770467498767155, 0.9028308745127015, -0.16516304980314536, 1.1260215720605415, -0.2119257851055858, 1.0601616932183506, -0.08246187217852527, 0.952843648421672, -0.003663689684025133, 1.0556831431689544, -0.09681812686629719, 0.8925629899743281, -0.03484043822367945, 1.1043193314535313, -0.13631188545872205, 0.8153976681667332, -0.11641065295517783, 1.050297324721704, 0.24998246344245, 1.1924669228864753, -0.08741985821087364, 0.9532580889997296, 0.06802596586912799, 0.9776989769411077, -0.01341845073316252, 1.0533778052519884, -0.2098067201825337, 0.9723437635721841, -0.16286339680649042, 1.1010737462581484, -0.11195933905711133, 1.2483084439028744, -0.11541214719191466, 0.7424964591308895, 0.04893531905023183, 0.8570778972240547, -0.08766324588545889, 1.0041379725756656, 0.021667554398428775, 1.0825540867959738, 0.1234247049003489, 1.0113816613800748, 0.09893490426910914, 1.0158177521440677, -0.04601920846295292, 0.8212563318556576, -0.14917092481344332, 0.9430833941832236, -0.06625478362771496, 0.9430503407905457, -0.06474421858999964, 1.2508391669962082, 0.057702220256905336, 1.0433776625586546, -0.09614318953087073, 1.2005918974028758, 0.1942302795104888, 0.9733294257104459, -0.040501829176558445, 1.0073014944898668, -0.11320362939364463, 0.924749543580626, -0.19386348705172873, 1.0571209211643897, 0.005948607249187989, 0.9756660994966416, -0.13919784079637054, 1.1370787245010479, -0.11866688930774062, 1.145212117452461, 0.01649857205147059, 1.0522586172478112, 0.12314275581058724, 0.9798486878981916, 0.09478177308307979, 1.0167677783984634, 1.0237959664152123, 0.014281037496895058, 1.0060969305731235, -0.0764394775883224, 0.9195205256453163, 0.04530765435851033, 0.9366193897283853, -0.12875623465874045, 0.9613099355183791, -0.046086522560209876, 1.0378761936689926, -0.24266414589888036, 0.8628978162373432, -0.0419211266895453, 0.9255998987262245, 0.08376384408866627, 0.9733206228867569, -0.024090968271599695, 1.0360204383946994, -0.04226998157922224, 1.0382846915268518, -0.02992444505728921, 0.958737558931471, 0.005231622820109632, 0.9175392759856481, -0.10142467697984635, 1.022909858160096, 0.25203061637746105, 0.9103410047498994, 0.20309455212332958, 1.175452952445397, -0.24721688513971848, 1.2093774117059777, -0.09134482810741233, 1.1360523330802526, -0.1319869520776837, 1.1081908864711354, 0.06029932066822419, 0.9749326919950266, 0.07039478294186371, 1.022387366918594, 0.04920619766499076, 0.967853430444878, 0.06364265600858232, 1.0192044483337397, 0.10514027053394699, 1.034270479030511, 0.10621693971248737, 1.2622690487839794, -0.1675795602585765, 1.027611368243726, 0.09144134163744297, 0.9194504642995818, -0.0015197518702681633, 1.0144190742977954, 0.0740643731648903, 0.9549658059891863, -0.07664764889450669, 1.1081027139117294, -0.08204734310091998, 1.194921443639589, -0.07341076963800905, 1.0050656496058712, 0.06993782564589866, 0.9170007097929629, -0.04761042322271728, 0.9852531729377623, -0.11229233211108824, 1.0508193224876936, 0.00928080820182713, 0.9632555184845953, 0.09935695711286954, 1.1438701455881808, 0.02221877009807326, 0.8267063433484493, -0.06053590355357415, 0.9793086150939477, -0.1053430101505646, 0.8679256987344495, 0.13736684518075368, 0.9094722470804016, 0.15034417862799454, 1.0146185525189724, 0.13553806894943035, 1.061551578450161, -0.03577114021232588, 0.8659227581637667, 0.028129883738051056, 1.1006780096649407, 0.11173224975642687, 1.0586221775844997, -0.009068605562526687, 1.1991762612531844, 0.08904529926928026, 0.9769797337166062, -0.10651547569018034, 1.1038489155189615, -0.2761846436256339, 1.1357955264941713, 0.18237801797066386, -0.05809902261119284, -0.045345412586300336, -0.0036489186598403453, -0.1107046363808533, 0.22991688215376863, 0.22040381548504276, -0.1734273647732869, 0.117179715256499, 0.056463829673344415, -0.16491011858762916, -0.11093444945869699, 0.23145218931101036, 0.00686377759521691, -0.02807757750387504, 0.07858365357513084, 0.013263313056699212, -0.020392455101748124, 0.1705337043904043, 0.12966542982892584, -0.11132475306096629, -0.010236240798694686, 0.25700140824740497, -0.17832888866760432, -0.07602245314480313, 0.014658745157228339, 0.08744305196299404, -0.10380747716765867, 0.23045655813686966, 0.023242113854537446, 0.05672437794032603, -0.00422733425079823, 0.06424978057956264, -0.13061957237728225, -0.08682744971466232, -0.07644782726274803, -0.06571114524167795, 0.13812882356712283, 0.047809147941453176, 0.114155658772049, 0.01825125247392426, 0.2801336985224951, -0.14659168198146164, 0.28247260455843815, -0.20216385917136695, -0.30460267016722414, 0.3096739292038979, -0.12200463888063043, -0.21996364917037708, 0.04473572613090839, 0.19895788450305454, -0.002553062079216089, 0.056872760333262266, -0.10086906716639266, -0.05393297423108119, 0.07849149907976305, -0.025731949683337214, 0.13652683621388878, 0.047582732278695306, 0.06393880961671514, 0.10153620525453683, -0.15728294476006388, -0.21300269057684626, 0.059856951846019524, -0.41588891346399753, -0.0467328798191059, 0.008424801334461815, -0.09654276042493358, -0.333510472833664, -0.07662077063533095, -0.17709482761836182, 0.10373081266052799, 0.10421237154840089, -0.14339175007391655, -0.05189726635490796, 0.11794919431634641, -0.06996286451039145, -0.16061289322658137, 0.15816775903967048, -0.11171322330726598, -0.12396578079885215, -0.08944710576757621, -0.007885094440431943, 0.22417268167370533, -0.31049775375202987, -0.06832987552760147, 0.002621873853758509, 0.0469601552476352, -0.1281143608952587, -0.00589242273412434, -0.1752140246611796, 0.26460785189514957, 0.06002358125508349, -0.1939285364585173, 0.04005763040237744, 0.06984936595956898, -0.23043655294158355, 0.1768169356739476, -0.026988725371852637, -0.12918385275820538, 0.28650974296485504, -0.14166693838773756, -0.061507453980382265, -0.18791930400748894, 0.1166235533747865, -0.19057274977286004, 0.14540950622370166, -0.09786128735805301, -0.05864300627814016, 0.026613921338062924, -0.06026714043123928, -0.15513642626766969, 0.10223917774224404, 0.10084421355186532, 0.06111927543616656, 0.32448539239210344, 0.20047919241545878, -0.23744075960026229, 0.09155690686608077, -0.09514831405214454, -0.054411174898070715, -0.09421313394623683, -0.07215406776911816, 0.08648862249224114, -0.03124481333669923, -0.17596851076712397, 0.29154317784739386, 0.0015750031081230716, 0.2678805740858753, 0.031241246711529044, 0.14649585547255692, -0.0620428471139621, -0.11211822171611366, 0.06657948491181384, 0.050051149106140023, 0.1845436021091581, 0.18035697731766168, -0.24452975204490668, 0.06941733832886612, -0.019932086638043342, -0.04466863191025925, 0.28013384406398545, 0.13590669874130779, 0.019036813905542987, 0.06029840451670525, 0.17820446885284527, 0.04754139178872744, 0.1709101026814951, -0.18522387305304788, -0.17477247611750346, 0.13512397304312807, -0.17212029786166536, -0.06567300671166511, -0.08142922140250766, 0.06240750693921382, -0.24208467713369272, -0.031911042032095306, -0.06527303275824561, 0.2773895592719013, -0.1500323021084347, -0.23171566451664172, -0.05218682239892289, 0.023452345365597007, -0.015482827769033676, 0.06158977529075585, 0.14208779516606218, -0.02325151396362513, 0.02129297449811695, -0.04789926257176428, -0.1838153278245252, 0.12665444646023205, 0.11576858268205009, 0.12352562309455971, 0.29338684623760414, 0.058513998403188966, -0.04020050564270706, 0.12036845936945927, -0.3829484723751118, 0.09804278931605409, -0.09537691175683215, 0.10146499424197496, 0.22323782906933995, 0.28438337640458744, 0.09211190555191204, 0.138331000734979, 0.05345495957616028, 0.10598597522879222, 0.04198868985648573, -0.014722558446443691, -0.06953939619691413, 0.07222222106601932, 0.025001024305879357, 0.09525471553381595, 0.3574717162295913, 0.14167192304856208, -0.10418517895970482, -0.022445181049150612, 0.16899538831597605, -0.1619897262545135, -0.04635194535706833, -0.25140057094949647, -0.19738611157672817, -0.06923769072220634, -0.053099086688022594, -0.20624269401270282, 0.34558750465259125, -0.1590023734082321, -0.04663292575477076, 0.01461002494031751, 0.021606535674131698, 0.21814102604444627, 0.14681069761586088, 0.33613397988021865, 0.060351246176632345, -0.10272151364104698, 0.023475980694806338, 0.03482715543004136, -0.1331678621445169, -0.29711947023358903, 0.12852459178540368, -0.09765383899502203, -0.10883960676953765, -0.2075045933092583, -0.06047654204597694, 0.18336676055736412, -0.01658109858487089, 0.15302590675736996, -0.13431998417905133, 0.0580353746788893, 0.22411186097364091, -0.03077373956487013, -0.29044197087697604, 0.028316789519074282, -0.1567880049220432, 0.1816717934524051, 0.10936358432663053, 0.019347436613611598, 0.1424131210388641, 0.013132686207778634, -0.12197194230666811, -0.25894239034975153, -0.2559405285937519, 0.29261630928476845, -0.014767878663814845, -0.09952174295431611, 0.2884413039720577, 0.22207721871516364, -0.05991735438943127, 0.055508383177127814, -0.13692333381662378, 0.16755244321437793, 0.33889634260362783, -0.006338572749096404, 0.05940100689924679, -0.16395922630957585, 0.172849734717468, 0.16194278880552315, 0.16494893938306696, 0.09828955960838967, 0.09601972891463881, -0.24254340664662516, 0.09378471765407811, -0.24030864834101212, 0.10347272468021826, 0.19527693443474975, -0.21360913634737974, -0.07399798250432911, 0.009977583357475183, 0.04537078466096721, -0.22368863890584081, 0.06590875518968053, 0.04295155333384194, 0.0913265751713176, 0.1425132626288384, -0.022703581244654682, -0.13609475465748633, 0.007791809369420842, -0.12051144962607616, -0.10343246666253007, -0.11548741116679745, 0.08088737869377259, -0.09561555383283435, -0.05959077214931965, -0.23111955216669372, 0.009489299130049757, 0.07406126660237826, -0.01741559085515498, 0.07815973146791379, -0.08636819547195991, -0.1011498990986064, 0.004774583741152677, -0.07470486760384573, 0.28942980807254787, 0.34046319359814115, -0.2181548511898147, -0.08959741034480441, -0.03568825946040105, -0.1656575009142676, 0.00782476188914616, -0.05537727569136654, -0.03590687663638896, -1.0498779063225443, -0.24403974517348426, -1.1839410654707756, 0.12384713326994186, -0.8766154740909458, 0.23934022891141282, -1.122343521686722, 0.004159934150542327, -1.038834348352016, -0.04966625709765815, -0.8426430857459544, -0.01846799259212613, -1.0115838074075443, -0.08778009475533863, -0.7919392302895574, 0.03314027741176773, -1.2272599624169347, 0.09053456331782411, -0.895692122703248, 0.2766555096376824, -0.9864903544699188, -0.2608889784710287, -0.8624685592038576, -0.1541494682156066, -1.1076370890446923, -0.03220430111891147, -0.7495920137197554, 0.061111379071678525, -0.9124657047372039, -0.02247187084616935, -0.9929952900952396, -0.056654838044124724, -1.314756087460725, -0.03748666107844787, -1.1293308830374105, -0.1433426065179973, -1.1125272532407207, -0.3386716442450138, -1.00613454365663, -0.06681052425033038, -1.083530949835788, -0.08240321315635402, -1.1659065137828242, -0.028790985919155753, -1.1741772660538312, -0.0876983675663717, -1.1433299195897055, -0.09981904801568692, -1.0763503926667344, -0.21650682418161557, 0.17993222959816818, -1.1497062151020143, -0.1258178429030847, -0.9439088238732761, -0.07492632719740541, -1.2162616193217302, -0.07445910396349319, -1.1237626049777896, 0.1861593486761969, -1.122409336923915, 0.03654750358709608, -1.1262224296240029, 0.22966579551114308, -0.8993674946419249, 0.04675796361357236, -0.9634521540090432, 0.04488639823011762, -0.8094361644363446, 0.08120718224273006, -0.9284171445875705, 0.15414045831504875, -0.8288468293377707, 0.10501684569760164, -0.9424427571238501, -0.03843927534308718, -1.1356450504777846, -0.13281405069149346, -1.1285119310309504, 0.08747573442223354, -0.9979001041901208, 0.1736761671781239, -1.0227899844904824, 0.06748858909239215, -1.0231172219255336, 0.0033073789912651196, -1.0369797823598819, -0.06213628264941857, -1.1697221955651935, 0.005346330735832463, -0.9792489176441301, 0.07901018278523866, -0.9431784404307763, -0.11828190993341112, -0.7775354426748513, 0.03331922381266398, -0.9064574441973735, 0.22353972581120954, -0.9531568615641982, -0.071634841666278, -0.9403303560756338, -0.1216142448201341, -0.9078380010687854, -0.06675760114071422, -0.82983227380827, 0.0041302235161632, -0.9960479143442557, 0.1280606316724511, -0.9733073825576124, -0.1851261377744177, -1.0477275017153562, 0.03268553313080142, -1.105795448121247, 0.151791210675477, -1.0060014575998193, -0.10954998242175516, -0.9237041640879557, 0.24456962386022854, -0.9566275263814169, 0.00742181006057348, -1.0805491169746158, -0.10812908187603855, -0.9940123987248326, -0.008797743803606437, -0.9285230630285208, -0.09382464081393162, -1.121503207583447, -0.03038236896915417, -0.9123836911402576, 0.09579259568264231, -1.019273157953363, 0.06762146925312872, -1.0139225454141683, 0.08652625110295736, -1.202496345347841, 0.005561787785723351, -0.9450053533438388, -0.09959819504079089, -0.9526701535615694, -0.14822063246006126, -1.0010296110692898, 0.0042498734277249236, -1.0528934056805639, -0.07124774438340356, -0.9341567308635885, 0.017431649066875922, -0.7810908682034219, 0.05607567399922034, -0.966950990275695, 0.1399000479058496, -1.071240898627193, 0.07411816406510281, -0.8870899534240301, 0.06805366579295695, -1.0096785621174302, -0.03332603638413198, -0.8677797151206759, -0.021641980632617134, -0.9079818427656323, -0.014377510244697604, -0.9117704725007706, -0.05454003719300994, -1.0188611070580555, -0.032020537826885, -1.0980073305412295, 0.2724242577594837, -0.9612422263797106, 0.11449970034745152, -1.0449515343488671, -0.1038805459351346, -0.9691048857040067, 0.023024483732207984, -1.0411889408156905, -0.2617752801385709, -1.0668452060640221, 0.017588222857989083, -1.1329842975041813, -0.12068340719047993, -1.0581015676062506, -0.1272497887011057, -0.9613903131609215, -0.04601316720296011, -1.1743034958623337, 0.1512052555610057, -1.0496147200353132, 0.008939014804501043, -1.0264576595184416, -0.15578502832594054, -0.9032111104654966, -0.08566139170126286, -0.9802648214207098, 0.10281150693515761, -1.0380712059447765, 0.07956757696226437, -0.9949250876046819, 0.005280687190975802, -1.2593880996312712, -0.16010877599151216, -0.9388196254754536, 0.12412106646939093, -0.9801083355377272]\n"
          ]
        },
        {
          "output_type": "display_data",
          "data": {
            "text/plain": [
              "<Figure size 432x288 with 1 Axes>"
            ],
            "image/png": "[encoded data removed]"
          },
          "metadata": {
            "needs_background": "light"
          }
        }
      ]
    },
    {
      "cell_type": "markdown",
      "source": [
        "# **Result**"
      ],
      "metadata": {
        "id": "a4413o7pD64w"
      }
    },
    {
      "cell_type": "code",
      "source": [
        "colors=mcolors.XKCD_COLORS\n",
        "colors= list(colors.keys())\n",
        "print(len(colors))\n",
        "y =[i for i in range(n)]\n",
        "print(len(y))\n",
        "color_map =  dict()\n",
        "for i in range(len(y)):\n",
        "    color_map[i]=colors[1*i]\n",
        "#print(color_map)\n",
        "y_color =[ color_map[i] for i in y]\n",
        "# Adds a subplot at the 1st position\n",
        "#fig.add_subplot(2, 1, 1)\n",
        "#plt.scatter(x1, y1, c=y_color)\n",
        "#plt.title(\"Input\");\n",
        "w=np.split(lst_x[lst_cost.index(min(lst_cost))],n)\n",
        "for i in range(n):\n",
        "    for j in range(n):\n",
        "        dis = np.linalg.norm(w[i]-w[j])\n",
        "        if dis<1.36e-1:\n",
        "            y[j]=y[i]\n",
        "y_color =[color_map[i] for i in y]\n",
        "plt.scatter(x1, y1,c=y_color)\n",
        "plt.title(\"Output\");"
      ],
      "metadata": {
        "id": "F-MA4HZJs2X3",
        "colab": {
          "base_uri": "https://localhost:8080/",
          "height": 316
        },
        "outputId": "461bdb2c-053e-4d37-9469-6800dee36af3"
      },
      "execution_count": null,
      "outputs": [
        {
          "output_type": "stream",
          "name": "stdout",
          "text": [
            "949\n",
            "400\n"
          ]
        },
        {
          "output_type": "display_data",
          "data": {
            "text/plain": [
              "<Figure size 432x288 with 1 Axes>"
            ],
            "image/png": "[encoded data removed]"
          },
          "metadata": {
            "needs_background": "light"
          }
        }
      ]
    },
    {
      "cell_type": "code",
      "execution_count": null,
      "metadata": {
        "colab": {
          "base_uri": "https://localhost:8080/",
          "height": 368
        },
        "id": "MrltpAny6371",
        "outputId": "00256f41-dd30-4cdd-ec96-9517dfe6e9f4"
      },
      "outputs": [
        {
          "output_type": "stream",
          "name": "stderr",
          "text": [
            "<ipython-input-18-af2ce89e4717>:1: RuntimeWarning: invalid value encountered in log10\n",
            "  plt.plot([i for i in range(iter)],[np.log10(i-lst_cost[-1]) for i in lst_cost[:-1]],'b',color='red')\n",
            "<ipython-input-18-af2ce89e4717>:1: UserWarning: color is redundantly defined by the 'color' keyword argument and the fmt string \"b\" (-> color=(0.0, 0.0, 1.0, 1)). The keyword argument will take precedence.\n",
            "  plt.plot([i for i in range(iter)],[np.log10(i-lst_cost[-1]) for i in lst_cost[:-1]],'b',color='red')\n"
          ]
        },
        {
          "output_type": "display_data",
          "data": {
            "text/plain": [
              "<Figure size 432x288 with 1 Axes>"
            ],
            "image/png": "[encoded data removed]"
          },
          "metadata": {
            "needs_background": "light"
          }
        }
      ],
      "source": [
        "plt.plot([i for i in range(iter)],[np.log10(i-lst_cost[-1]) for i in lst_cost[:-1]],'b',color='red')\n",
        "plt.xlabel('Iteration')\n",
        "plt.ylabel('$log_{10}(f_k-f*)$')\n",
        "plt.grid(True)"
      ]
    },
    {
      "cell_type": "code",
      "execution_count": null,
      "metadata": {
        "colab": {
          "base_uri": "https://localhost:8080/",
          "height": 334
        },
        "id": "fuu3EgX_Y1bh",
        "outputId": "b27d25ce-068f-45e0-e536-5b9b4bdf564e"
      },
      "outputs": [
        {
          "output_type": "stream",
          "name": "stderr",
          "text": [
            "<ipython-input-16-b3b1462df41d>:1: UserWarning: color is redundantly defined by the 'color' keyword argument and the fmt string \"b\" (-> color=(0.0, 0.0, 1.0, 1)). The keyword argument will take precedence.\n",
            "  plt.plot([i for i in range(iter)],[(i-lst_cost[-1]) for i in lst_cost[:-1]],'b',color='yellow')\n"
          ]
        },
        {
          "output_type": "display_data",
          "data": {
            "text/plain": [
              "<Figure size 432x288 with 1 Axes>"
            ],
            "image/png": "[encoded data removed]"
          },
          "metadata": {
            "needs_background": "light"
          }
        }
      ],
      "source": [
        "plt.plot([i for i in range(iter)],[(i-lst_cost[-1]) for i in lst_cost[:-1]],'b',color='yellow')\n",
        "plt.xlabel('Iteration')\n",
        "plt.ylabel('$f_k-f*$')\n",
        "plt.grid(True)"
      ]
    },
    {
      "cell_type": "code",
      "execution_count": null,
      "metadata": {
        "colab": {
          "base_uri": "https://localhost:8080/",
          "height": 279
        },
        "id": "-ur6Rv5UxL5g",
        "outputId": "c5e5f723-407b-45b9-e133-13817dad46c4"
      },
      "outputs": [
        {
          "output_type": "display_data",
          "data": {
            "text/plain": [
              "<Figure size 432x288 with 1 Axes>"
            ],
            "image/png": "[encoded data removed]"
          },
          "metadata": {
            "needs_background": "light"
          }
        }
      ],
      "source": [
        "plt.plot([i for i in range(iter+1)],np.array(lst_cost))\n",
        "plt.xlabel('Iteration')\n",
        "plt.ylabel('$f(x^k)$')\n",
        "plt.grid(True)"
      ]
    }
  ],
  "metadata": {
    "colab": {
      "provenance": [],
      "include_colab_link": true
    },
    "kernelspec": {
      "display_name": "Python 3",
      "name": "python3"
    },
    "language_info": {
      "name": "python"
    }
  },
  "nbformat": 4,
  "nbformat_minor": 0
}