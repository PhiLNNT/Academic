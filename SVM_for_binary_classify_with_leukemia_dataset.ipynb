{
  "nbformat": 4,
  "nbformat_minor": 0,
  "metadata": {
    "colab": {
      "provenance": [],
      "collapsed_sections": [
        "MS-1XzBBnYhc",
        "cv98LkEjkSTt",
        "4hvfTnYGm5CM",
        "MuQVt5PIxvSf",
        "dy2-1V1f50vq",
        "dAmWSWyZNyC_"
      ],
      "include_colab_link": true
    },
    "kernelspec": {
      "display_name": "Python 3",
      "name": "python3"
    },
    "language_info": {
      "name": "python"
    }
  },
  "cells": [
    {
      "cell_type": "markdown",
      "metadata": {
        "id": "view-in-github",
        "colab_type": "text"
      },
      "source": [
        "<a href=\"https://colab.research.google.com/github/PhiLNNT/Academic/blob/Linear-Support-Vector-Machines/SVM_for_binary_classify_with_leukemia_dataset.ipynb\" target=\"_parent\"><img src=\"https://colab.research.google.com/assets/colab-badge.svg\" alt=\"Open In Colab\"/></a>"
      ]
    },
    {
      "cell_type": "markdown",
      "metadata": {
        "id": "MS-1XzBBnYhc"
      },
      "source": [
        "# Prepare code"
      ]
    },
    {
      "cell_type": "code",
      "metadata": {
        "id": "HIcxAowrAgS-"
      },
      "source": [
        "import numpy as np\n",
        "from cvxopt import matrix, solvers\n",
        "from sklearn.metrics import accuracy_score\n",
        "import time\n",
        "from sklearn.metrics import accuracy_score\n",
        "time_run_leu=dict()\n",
        "result_leu=dict()\n",
        "time_run_colon=dict()\n",
        "result_colon=dict()"
      ],
      "execution_count": null,
      "outputs": []
    },
    {
      "cell_type": "code",
      "metadata": {
        "id": "7mCKHY5P3rYI"
      },
      "source": [
        "##\n",
        "class SVM():\n",
        "  def __init__(self,X,y):\n",
        "    self.m,self.n=X.shape\n",
        "    self.X=X\n",
        "    self.y=y.reshape((-1,1))\n",
        "\n",
        "  def predict(self, X_test):\n",
        "    # self.X_test=X_test\n",
        "    # w_hat=np.vstack((self.w,self.b))\n",
        "    # X_test_hat=np.concatenate((self.X_test,np.ones((self.X_test.shape[0],1))),axis=1)\n",
        "    y_test=X_test@self.w+self.b\n",
        "    y_test= np.where(y_test>0,1,-1)\n",
        "    return y_test.flatten()\n",
        "\n",
        "\n",
        "  #---solving by primal problem with CVXOPT\n",
        "  def primal(self,C):\n",
        "    m,n=self.m,self.n\n",
        "    X_train=self.X\n",
        "    y_train=self.y\n",
        "      # P\n",
        "    P=np.eye((m+n+1))\n",
        "    P[n:]=0\n",
        "    # print(P)\n",
        "    P=matrix(P)\n",
        "\n",
        "    # C*q\n",
        "    q=np.zeros((m+n+1,1))\n",
        "    q[n+1:]=1\n",
        "    # C=100 # hyperparameter\n",
        "    # print(q)\n",
        "    q=matrix(C*q)\n",
        "\n",
        "    # G\n",
        "    yX=y_train*np.concatenate((X_train,np.ones((m,1))),axis=1)\n",
        "    yX=np.concatenate((yX,np.eye(m)),axis=1)\n",
        "    k=np.eye(yX.shape[1],k=n+1)\n",
        "    k=k[:m,:]\n",
        "\n",
        "    G=-np.concatenate((yX,k))\n",
        "    m_G,n_G=G.shape\n",
        "\n",
        "    # print(G)\n",
        "    G=matrix(G)\n",
        "\n",
        "\n",
        "    # h\n",
        "    h=-np.ones((m_G,1))\n",
        "    h[m:]=0\n",
        "    h=matrix(h)\n",
        "    # print(h)\n",
        "\n",
        "    #--solver--\n",
        "    solvers.options['show_progress'] = True\n",
        "    # solvers.options['refinement']=1\n",
        "    sol=solvers.qp(P, q, G, h)\n",
        "    w = np.array(sol['x'])[:n+1]\n",
        "    # print('w = ',w[:n].flatten())\n",
        "    # print('b = ',w[-1])\n",
        "    return w[:n],w[-1]\n",
        "\n",
        "  #---solving by primal problem has R=l1-norm with CVXOPT\n",
        "  def primal_R(self,alpha,C):\n",
        "    X=self.X\n",
        "    y=self.y\n",
        "    m,n = self.m,self.n # m samples, n features\n",
        "    N= 2*n+m+1 # dim z\n",
        "\n",
        "      # build P\n",
        "    P1=np.eye(2*n,k=n)\n",
        "    P2=np.eye(2*n,k=-n)\n",
        "    P=np.zeros((N,N))\n",
        "    P12 = np.eye(2*n)-P1-P2\n",
        "    P[:2*n,:2*n]=P12\n",
        "    P=matrix(P)\n",
        "    # print(P)\n",
        "\n",
        "    # Build q\n",
        "    q=np.zeros((N,1))\n",
        "    q[:2*n]=alpha\n",
        "    q[2*n+1:]=C\n",
        "    q=matrix(q)\n",
        "\n",
        "    # print(q)\n",
        "\n",
        "    #build G\n",
        "    G=np.zeros((2*n+2*m,2*n+m+1))\n",
        "    eta=np.eye(m)\n",
        "    uv=np.hstack((X,-X))\n",
        "    yz=y*np.hstack((uv,np.ones((m,1))))\n",
        "    yzeta=np.hstack((yz,eta))\n",
        "    u=np.eye(n)\n",
        "    G[:m,]=yzeta\n",
        "    G[m:m+n,:n]=u\n",
        "    G[m+n:m+2*n,n:2*n]=u\n",
        "    G[m+2*n:,2*n+1:]=eta\n",
        "    G=matrix(-1.*G)\n",
        "\n",
        "    # print(G)\n",
        "\n",
        "    #build h\n",
        "    h=np.zeros((2*n+2*m,1))\n",
        "    h[:m]=-1\n",
        "    h=matrix(h)\n",
        "    # print(h)\n",
        "\n",
        "    #sovle\n",
        "    solvers.options['show_progress'] = True\n",
        "    solvers.options['abstol'] = 1e-10\n",
        "    solvers.options['reltol'] = 1e-10\n",
        "    solvers.options['feastol'] = 1e-10\n",
        "    sol=solvers.qp(P=P, q=q, G=G, h=h,kktsolver='ldl')\n",
        "    z = np.array(sol['x'])[:2*n+1]\n",
        "    u_solution =z[:n]\n",
        "    v_solution = z[n:2*n]\n",
        "    u1_solution = np.maximum(u_solution,0)\n",
        "    v1_solution = np.maximum(-v_solution,0)\n",
        "    w=u_solution-v_solution\n",
        "    return w,z[-1]\n",
        "\n",
        "  #---solving by dual problem with CVXOPT\n",
        "  def dual_solve(self,C):\n",
        "    X=self.X\n",
        "    y=self.y\n",
        "    m,n = self.m,self.n\n",
        "    y = y.reshape(-1,1) * 1.\n",
        "    X_dash = y.reshape((-1,1)) * X\n",
        "    H = np.dot(X_dash , X_dash.T) * 1.\n",
        "\n",
        "    #Converting into cvxopt format\n",
        "    P = matrix(H)\n",
        "    q = matrix(-np.ones((m, 1)))\n",
        "    G = matrix(np.vstack((np.eye(m)*-1,np.eye(m))))\n",
        "    h = matrix(np.hstack((np.zeros(m), np.ones(m) * C)))\n",
        "    A = matrix(y.reshape(1, -1))\n",
        "    b = matrix(np.zeros(1))\n",
        "\n",
        "    #Setting solver parameters (change default to decrease tolerance)\n",
        "    # solvers.options['show_progress'] = False\n",
        "    # solvers.options['abstol'] = 1e-10\n",
        "    # solvers.options['reltol'] = 1e-10\n",
        "    # solvers.options['feastol'] = 1e-10\n",
        "\n",
        "    #Run solver\n",
        "    sol = solvers.qp(P, q, G, h, A, b)\n",
        "    alphas = np.array(sol['x'])\n",
        "\n",
        "    #Compute w,b\n",
        "    w = ((y * alphas).T @ X).reshape(-1,1)\n",
        "    S = (alphas > 1e-5).flatten()\n",
        "    b = (y[S] - np.dot(X[S], w))\n",
        "    # print('Alphas = ',alphas)\n",
        "    # print('w = ', w)\n",
        "    # print('b = ', b[0])\n",
        "    return w , b[0]\n",
        "\n",
        "  #--Solving by subgradient\n",
        "\n",
        "  #-- compute subgradient of g(x)=max(0,f(x))\n",
        "  def subgrag(self,w_hat):\n",
        "    X=self.X\n",
        "    y=self.y\n",
        "    m,n = self.m,self.n\n",
        "    w=w_hat[:-1]\n",
        "    b=w_hat[-1]\n",
        "    U = y*(X@w+b)\n",
        "    # print('U2',U)\n",
        "    z=(U>1).flatten()\n",
        "    zz=(U==1).flatten()\n",
        "    # g=np.copy(u)\n",
        "    g=-y*(np.hstack((X,np.ones((m,1)))))\n",
        "    # print(g)\n",
        "    g[z]=0\n",
        "    g[zz]=np.random.rand(g[zz].shape[0],1)*g[zz]\n",
        "    # print(g)\n",
        "    return g.T\n",
        "\n",
        "  #-- compute subgradient of R(x)=l1-norm\n",
        "  def subgraR(self,w_hat):\n",
        "    X=self.X\n",
        "    y=self.y\n",
        "    m,n = self.m,self.n\n",
        "    w=w_hat[:-1]\n",
        "    r=np.where(w!=0,np.sign(w),np.random.uniform(-1,1))\n",
        "    # r=np.where(w!=0,np.sign(w),0)\n",
        "    return np.vstack((r,0))\n",
        "\n",
        "  #--cost function\n",
        "  def cost(self,w_hat,alpha,C,R):\n",
        "    X=self.X\n",
        "    y=self.y\n",
        "    m,n = self.m,self.n\n",
        "    w=w_hat[:-1]\n",
        "    b=w_hat[-1]\n",
        "    U = y*(X@w+b)\n",
        "    # print('U1',U)\n",
        "    if R:\n",
        "      return 0.5*np.sum(w*w)+ C*(np.sum(np.maximum(0, 1 - U)))+alpha*(np.sum(abs(w)))\n",
        "    else:\n",
        "      return 0.5*np.sum(w*w)+ C*(np.sum(np.maximum(0, 1 - U)))\n",
        "\n",
        "  #--compute subgradient of cost function\n",
        "  def subgradient(self,w_hat,alpha,C,R):\n",
        "    X=self.X\n",
        "    y=self.y\n",
        "    m,n = self.m,self.n\n",
        "    w=w_hat[:-1]\n",
        "    b=w_hat[-1]\n",
        "    U = y*(X@w+b)\n",
        "    if R:\n",
        "      r=self.subgraR(w_hat)\n",
        "      g=self.subgrag(w_hat)\n",
        "      sub = w_hat+C*np.sum(g,axis=1,keepdims=True)+alpha*r\n",
        "      sub[-1]-=b\n",
        "    else:\n",
        "      g=self.subgrag(w_hat)\n",
        "      sub = w_hat+C*np.sum(g,axis=1,keepdims=True)\n",
        "      sub[-1]-=b\n",
        "    return sub\n",
        "\n",
        "  #--subgradient descent\n",
        "  def subgrad_descent(self,w0,b0,alpha,C,R,learning_rate,max_time):\n",
        "    X=self.X\n",
        "    y=self.y\n",
        "    m,n = self.m,self.n\n",
        "    w=w0\n",
        "    b=b0\n",
        "    w_hat=np.vstack((w,b))\n",
        "    it=0\n",
        "    lst_cost=[]\n",
        "    lst_cost.append(self.cost(w_hat,alpha,C,R))\n",
        "    while it<max_time:\n",
        "      last_cost=self.cost(w_hat,alpha,C,R)\n",
        "      it += 1\n",
        "      old_w_hat=w_hat.copy()\n",
        "      sub = self.subgradient(old_w_hat,alpha,C,R)\n",
        "      #-- modify learning rate\n",
        "      # if it>5000:\n",
        "      #   learning_rate = learning_rate/(np.log(np.sqrt(it)))\n",
        "      w_hat -= learning_rate*sub\n",
        "      new_cost=self.cost(w_hat,alpha,C,R)\n",
        "      lst_cost.append(new_cost)\n",
        "      # print('12334',np.linalg.norm(sub))\n",
        "      if it % 1000 ==1:\n",
        "        print('iter %d' %it + ' cost: %f' %new_cost)\n",
        "      # if abs(new_cost-last_cost)<1e-20:\n",
        "      #   new_cost=last_cost\n",
        "      #   # w_hat=old_w_hat\n",
        "      #   # it-=1\n",
        "      #   print('Stopped by early stopping at ',it,'-th iterattion')\n",
        "      #   print('iter %d' %(it-1) + ' cost: %f' %last_cost)\n",
        "      #   print('iter %d' %it + ' cost: %f' %new_cost)\n",
        "      #   break\n",
        "      if np.linalg.norm(sub)<1e-5:\n",
        "        print('Stopped by objective value at ',it,'-th iterattion')\n",
        "        break\n",
        "    else:\n",
        "      # if new_cost>last_cost:\n",
        "      #   new_cost=last_cost\n",
        "      #   w_hat=old_w_hat\n",
        "        print('Stopped by max iteration')\n",
        "    return w_hat[:-1],w_hat[-1],lst_cost,it\n",
        "\n",
        "  #--main solver--\n",
        "  def solver(self,key=0, dual=None, C=100,alpha=0.01, learning_rate=0.01,max_time=200000,Reg=None, subgradient_method=None,w0=0,b0=0):\n",
        "    '''\n",
        "    key==0: solved by primal problem with Reg=0\n",
        "    key==1: solved by primal problem with Reg=l1-norm\n",
        "    key==2: solved by unconstranted problem with Reg=0\n",
        "    key==3: solved by unconstranted problem with Reg=l1-norm\n",
        "    key==4: solved by dual problem with Reg=0\n",
        "    '''\n",
        "    if key == 1:\n",
        "      print('solved by primal problem with Reg=l1-norm')\n",
        "      self.w, self.b=self.primal_R(alpha,C)\n",
        "      return self.w, self.b\n",
        "    if key==3:\n",
        "      print('solved by unconstranted problem with Reg=l1-lorm')\n",
        "      self.w, self.b,lst_cost,it=self.subgrad_descent(w0,b0,alpha,C,Reg,learning_rate,max_time)\n",
        "      return self.w, self.b,lst_cost,it\n",
        "    if key==0:\n",
        "      print('solved by primal problem with Reg=0')\n",
        "      self.w, self.b=self.primal(C)\n",
        "      return self.w, self.b\n",
        "    if key==2:\n",
        "      print('solved by unconstranted problem with Reg=0')\n",
        "      self.w, self.b,lst_cost,it=self.subgrad_descent(w0,b0,alpha,C,Reg,learning_rate,max_time)\n",
        "      return self.w, self.b,lst_cost,it\n",
        "    if Reg != None and dual != None:\n",
        "        raise Exception(' doesn\\'t support dual with Reg = l1-norm'  )\n",
        "    if key==4:\n",
        "      print('solved by dual problem with Reg=0')\n",
        "      self.w, self.b =self.dual_solve(C)\n",
        "      return self.w, self.b\n"
      ],
      "execution_count": null,
      "outputs": []
    },
    {
      "cell_type": "markdown",
      "metadata": {
        "id": "eupykooOyh77"
      },
      "source": [
        "# Working with datas\n",
        "\n",
        "In all trainings, we set $C=100$ and $\\alpha=0.01$"
      ]
    },
    {
      "cell_type": "markdown",
      "metadata": {
        "id": "Rqv4BV13kCMe"
      },
      "source": [
        "# Working with Leukemia dataset"
      ]
    },
    {
      "cell_type": "markdown",
      "metadata": {
        "id": "cv98LkEjkSTt"
      },
      "source": [
        "## Prepare data"
      ]
    },
    {
      "cell_type": "code",
      "metadata": {
        "colab": {
          "base_uri": "https://localhost:8080/"
        },
        "id": "A3VCIOofkBR7",
        "outputId": "a5fcc7c3-ef21-41ae-c085-a1040a3e6dea"
      },
      "source": [
        "!pip install wget\n",
        "import wget\n",
        "from os import path\n",
        "!pip install libsvm\n",
        "from libsvm.svmutil import svm_read_problem\n",
        "from sklearn.preprocessing import StandardScaler\n",
        "from sklearn.feature_extraction import DictVectorizer\n"
      ],
      "execution_count": null,
      "outputs": [
        {
          "output_type": "stream",
          "name": "stdout",
          "text": [
            "Collecting wget\n",
            "  Downloading wget-3.2.zip (10 kB)\n",
            "Building wheels for collected packages: wget\n",
            "  Building wheel for wget (setup.py) ... \u001b[?25l\u001b[?25hdone\n",
            "  Created wheel for wget: filename=wget-3.2-py3-none-any.whl size=9672 sha256=0e79b8b6d27c6918af7036473e92e3dc9d17fd04902245956dc984be36317479\n",
            "  Stored in directory: /root/.cache/pip/wheels/a1/b6/7c/0e63e34eb06634181c63adacca38b79ff8f35c37e3c13e3c02\n",
            "Successfully built wget\n",
            "Installing collected packages: wget\n",
            "Successfully installed wget-3.2\n",
            "Collecting libsvm\n",
            "  Downloading libsvm-3.23.0.4.tar.gz (170 kB)\n",
            "\u001b[K     |████████████████████████████████| 170 kB 5.1 MB/s \n",
            "\u001b[?25hBuilding wheels for collected packages: libsvm\n",
            "  Building wheel for libsvm (setup.py) ... \u001b[?25l\u001b[?25hdone\n",
            "  Created wheel for libsvm: filename=libsvm-3.23.0.4-cp37-cp37m-linux_x86_64.whl size=233370 sha256=d60914926771b2dd75f06b247f742eb97969d80bc9f835d73ccc2bfc644b6b75\n",
            "  Stored in directory: /root/.cache/pip/wheels/cd/e8/1e/bf95cf256e4d3ffc94289ab508c49d48e34c98220af63e3513\n",
            "Successfully built libsvm\n",
            "Installing collected packages: libsvm\n",
            "Successfully installed libsvm-3.23.0.4\n"
          ]
        }
      ]
    },
    {
      "cell_type": "code",
      "metadata": {
        "colab": {
          "base_uri": "https://localhost:8080/",
          "height": 35
        },
        "id": "C6kkDQNDkgBH",
        "outputId": "a5df0e77-c59c-4b96-e8a7-a95a05fec7a2"
      },
      "source": [
        "# get trainning data\n",
        "wget.download('https://www.csie.ntu.edu.tw/~cjlin/libsvmtools/datasets/binary/leu.bz2','leu.bz2')"
      ],
      "execution_count": null,
      "outputs": [
        {
          "output_type": "execute_result",
          "data": {
            "application/vnd.google.colaboratory.intrinsic+json": {
              "type": "string"
            },
            "text/plain": [
              "'leu.bz2'"
            ]
          },
          "metadata": {},
          "execution_count": 4
        }
      ]
    },
    {
      "cell_type": "code",
      "metadata": {
        "colab": {
          "base_uri": "https://localhost:8080/",
          "height": 35
        },
        "id": "z4QZGEmgkjR3",
        "outputId": "d5c35b1b-28c9-4666-a2b9-457b0015e4d2"
      },
      "source": [
        "# get testing data\n",
        "wget.download('https://www.csie.ntu.edu.tw/~cjlin/libsvmtools/datasets/binary/leu.t.bz2','leu.t.bz2')\n"
      ],
      "execution_count": null,
      "outputs": [
        {
          "output_type": "execute_result",
          "data": {
            "application/vnd.google.colaboratory.intrinsic+json": {
              "type": "string"
            },
            "text/plain": [
              "'leu.t.bz2'"
            ]
          },
          "metadata": {},
          "execution_count": 5
        }
      ]
    },
    {
      "cell_type": "code",
      "metadata": {
        "id": "RDVxIBoUklm7"
      },
      "source": [
        "# unzip data\n",
        "!bunzip2 leu.bz2\n",
        "!bunzip2 leu.t.bz2\n"
      ],
      "execution_count": null,
      "outputs": []
    },
    {
      "cell_type": "code",
      "metadata": {
        "id": "gAy1KMb5kn4e"
      },
      "source": [
        "# get training data\n",
        "y_train_leu, X_train_leu = svm_read_problem('leu')\n",
        "v = DictVectorizer(sparse=False)\n",
        "X_train_leu = v.fit_transform(X_train_leu)\n",
        "\n",
        "# # get testing data\n",
        "y_test_leu, X_test_leu = svm_read_problem('leu.t')\n",
        "# v = DictVectorizer(sparse=False)\n",
        "X_test_leu = v.transform(X_test_leu)\n",
        "\n",
        "\n",
        "\n"
      ],
      "execution_count": null,
      "outputs": []
    },
    {
      "cell_type": "code",
      "metadata": {
        "colab": {
          "base_uri": "https://localhost:8080/"
        },
        "id": "KDivWqsLk319",
        "outputId": "d2b0575e-117f-40e5-9c98-eb81d61bdab6"
      },
      "source": [
        "# of classes: 2\n",
        "# of data: 38 / 34 (testing)\n",
        "# of features: 7129\n",
        "\n",
        "y_train_leu=np.array(y_train_leu)\n",
        "y_test_leu=np.array(y_test_leu)\n",
        "\n",
        "print(X_train_leu.shape)\n",
        "print(y_train_leu.shape)\n",
        "\n",
        "print(X_test_leu.shape)\n",
        "print(y_test_leu.shape)\n",
        "\n"
      ],
      "execution_count": null,
      "outputs": [
        {
          "output_type": "stream",
          "name": "stdout",
          "text": [
            "(38, 7129)\n",
            "(38,)\n",
            "(34, 7129)\n",
            "(34,)\n"
          ]
        }
      ]
    },
    {
      "cell_type": "markdown",
      "metadata": {
        "id": "cefY3Q9QmHNZ"
      },
      "source": [
        "## Task 1: Use  a  solver  to  train with $R=  0 $ and $R=\\alpha ‖·‖_1$"
      ]
    },
    {
      "cell_type": "markdown",
      "metadata": {
        "id": "4hvfTnYGm5CM"
      },
      "source": [
        "### Use CVXOPT Solvers.qp to train with $R=0$"
      ]
    },
    {
      "cell_type": "code",
      "metadata": {
        "colab": {
          "base_uri": "https://localhost:8080/"
        },
        "id": "Llyiqm2smDFt",
        "outputId": "52cc95e9-df6e-46f2-cdf6-ba7cb7a10df7"
      },
      "source": [
        "#--measure time to run code\n",
        "start_time = time.time()\n",
        "\n",
        "#--train--\n",
        "task_leu=SVM(X_train_leu,y_train_leu)\n",
        "w,b=task_leu.solver()\n",
        "print('w:',w)\n",
        "print('b:',b)\n",
        "\n",
        "#--measure time to run code\n",
        "end_time = time.time()\n",
        "elapsed_time = end_time - start_time\n",
        "time_run_leu['primal']=elapsed_time\n",
        "print('Running time:',time_run_leu['primal'])\n",
        "\n",
        "#- save w,b\n",
        "result_leu['primal']=(w,b)\n",
        "\n",
        "#--predict\n",
        "y_predict_leu=task_leu.predict(X_test_leu)\n",
        "\n",
        "#--accuracy\n",
        "print('accuracy:{:.2f} %'.format(accuracy_score(y_predict_leu.reshape(-1,),y_test_leu.reshape(-1,))*100))\n",
        "\n"
      ],
      "execution_count": null,
      "outputs": [
        {
          "output_type": "stream",
          "name": "stdout",
          "text": [
            "solved by primal problem with Reg=0\n",
            "     pcost       dcost       gap    pres   dres\n",
            " 0: -3.7995e+05  3.8100e+03  8e+03  1e+02  1e+00\n",
            " 1: -6.1216e+03 -7.5049e+01  2e+02  2e+00  2e-02\n",
            " 2: -1.1157e+02 -6.0402e+00  1e+01  4e-02  4e-04\n",
            " 3:  9.2098e-01 -7.8048e-01  2e+00  2e-13  1e-13\n",
            " 4:  1.4266e-01 -1.0285e-01  2e-01  6e-14  2e-15\n",
            " 5:  2.4104e-02 -1.0802e-02  3e-02  4e-14  2e-15\n",
            " 6:  5.2746e-03  5.1808e-04  5e-03  1e-14  2e-15\n",
            " 7:  2.0336e-03  1.5493e-03  5e-04  4e-15  2e-15\n",
            " 8:  1.6462e-03  1.6068e-03  4e-05  2e-15  2e-15\n",
            " 9:  1.6189e-03  1.6159e-03  3e-06  2e-15  2e-15\n",
            "10:  1.6173e-03  1.6171e-03  2e-07  1e-15  2e-15\n",
            "11:  1.6172e-03  1.6172e-03  1e-08  2e-15  2e-15\n",
            "Optimal solution found.\n",
            "w: [[-1.26708919e-03]\n",
            " [-3.15899694e-04]\n",
            " [ 4.42377693e-04]\n",
            " ...\n",
            " [ 9.00043927e-05]\n",
            " [-2.47749502e-03]\n",
            " [-1.30369566e-04]]\n",
            "b: [0.42770494]\n",
            "Running time: 58.1010947227478\n",
            "accuracy:82.35 %\n"
          ]
        }
      ]
    },
    {
      "cell_type": "markdown",
      "metadata": {
        "id": "MuQVt5PIxvSf"
      },
      "source": [
        "### Use CVXOPT Solvers.qp to train with $R=\\alpha ‖·‖_1$"
      ]
    },
    {
      "cell_type": "code",
      "metadata": {
        "colab": {
          "base_uri": "https://localhost:8080/"
        },
        "id": "sEvgrkOHxupX",
        "outputId": "2ea1edfe-c1fb-438c-ef20-5f15edc28fa8"
      },
      "source": [
        "#--measure time to run code\n",
        "start_time = time.time()\n",
        "\n",
        "#--train--\n",
        "task1_leu=SVM(X_train_leu,y_train_leu)\n",
        "w,b=task1_leu.solver(key=1)\n",
        "print('w:',w)\n",
        "print('b:',b)\n",
        "\n",
        "#--measure time to run code\n",
        "end_time = time.time()\n",
        "elapsed_time = end_time - start_time\n",
        "time_run_leu['primal_R']=elapsed_time\n",
        "print('Running time:',time_run_leu['primal_R'])\n",
        "\n",
        "#- save w,b\n",
        "result_leu['primal_R']=(w,b)\n",
        "\n",
        "#--predict\n",
        "y_predict_leu=task_leu.predict(X_test_leu)\n",
        "\n",
        "#--accuracy\n",
        "print('accuracy:{:.2f} %'.format(accuracy_score(y_predict_leu.reshape(-1,),y_test_leu.reshape(-1,))*100))\n",
        "\n",
        "\n"
      ],
      "execution_count": null,
      "outputs": [
        {
          "name": "stdout",
          "output_type": "stream",
          "text": [
            "solved by primial problem with Reg=l1-norm\n"
          ]
        }
      ]
    },
    {
      "cell_type": "markdown",
      "metadata": {
        "id": "m2f3kYVE05Go"
      },
      "source": [
        "## Task2: Use the subgradient method to solve this problem"
      ]
    },
    {
      "cell_type": "markdown",
      "metadata": {
        "id": "F51PRB-oNShr"
      },
      "source": [
        "### $R=0$"
      ]
    },
    {
      "cell_type": "markdown",
      "metadata": {
        "id": "dy2-1V1f50vq"
      },
      "source": [
        "#### if we choose $(w_0,b_0)=(0,...,0)$ the accuracy seems to be unchanged even though the optimal solution is not exact."
      ]
    },
    {
      "cell_type": "code",
      "metadata": {
        "colab": {
          "base_uri": "https://localhost:8080/"
        },
        "id": "gRzK_4_Kza4C",
        "outputId": "e42b0c38-7aa4-4061-b4b3-2f03af3b56b1"
      },
      "source": [
        "#--measure time to run code\n",
        "start_time = time.time()\n",
        "\n",
        "#-- create initial w0=0,b0=0\n",
        "m,n=X_train_leu.shape\n",
        "w0=np.zeros((n,1))\n",
        "b0=0\n",
        "#--train--\n",
        "task_leu1=SVM(X_train_leu,y_train_leu)\n",
        "w,b,lst_cost,it=task_leu1.solver(key=2,w0=w0,b0=b0,learning_rate=0.000000005,max_time=2000)\n",
        "print('w:',w)\n",
        "print('b:',b)\n",
        "\n",
        "#--measure time to run code\n",
        "end_time = time.time()\n",
        "elapsed_time = end_time - start_time\n",
        "time_run_leu['sub']=elapsed_time\n",
        "print('Running time:',time_run_leu['sub'])\n",
        "\n",
        "#- save w,b\n",
        "result_leu['sub']=(w,b)\n",
        "\n",
        "#--predict\n",
        "y_predict_leu=task_leu1.predict(X_test_leu)\n",
        "\n",
        "#--accuracy\n",
        "print('accuracy:{:.2f} %'.format(accuracy_score(y_predict_leu.reshape(-1,),y_test_leu.reshape(-1,))*100))\n"
      ],
      "execution_count": null,
      "outputs": [
        {
          "output_type": "stream",
          "name": "stdout",
          "text": [
            "solved by unconstranted problem with Reg=0\n",
            "iter 1 cost: 3771.184883\n",
            "iter 1001 cost: 0.002738\n",
            "Stopped by max iteration\n",
            "w: [[-1.11527812e-03]\n",
            " [ 4.64562811e-05]\n",
            " [ 1.85188229e-04]\n",
            " ...\n",
            " [ 5.04051009e-04]\n",
            " [-2.13412721e-03]\n",
            " [-8.66598503e-05]]\n",
            "b: [0.003265]\n",
            "Running time: 4.3905439376831055\n",
            "accuracy:82.35 %\n"
          ]
        }
      ]
    },
    {
      "cell_type": "code",
      "metadata": {
        "colab": {
          "base_uri": "https://localhost:8080/"
        },
        "id": "DNQ0yX-BnPQP",
        "outputId": "bd0bc8a9-1dfe-4aed-e63b-4ff2a7dcbadc"
      },
      "source": [
        "sub_solution=np.vstack((result_leu['sub'][0],result_leu['sub'][1]))\n",
        "primal_solution=np.vstack((result_leu['primal'][0],result_leu['primal'][1]))\n",
        "\n",
        "print(' distance between subgradient method solution and primal solution:', np.linalg.norm(sub_solution-primal_solution))"
      ],
      "execution_count": null,
      "outputs": [
        {
          "name": "stdout",
          "output_type": "stream",
          "text": [
            " distance: 0.426069629680071\n"
          ]
        }
      ]
    },
    {
      "cell_type": "markdown",
      "metadata": {
        "id": "2bGY0lWE7SSz"
      },
      "source": [
        "#### if we choose $(w_0,b_0)=(0,...,0.41)$ the accuracy seems to be higher even though the optimal solution is not exact."
      ]
    },
    {
      "cell_type": "code",
      "metadata": {
        "colab": {
          "base_uri": "https://localhost:8080/"
        },
        "id": "YzR5SpCp7SS2",
        "outputId": "c18e2fdb-205d-4dfb-9b29-7699fd7a31f3"
      },
      "source": [
        "#--measure time to run code\n",
        "start_time = time.time()\n",
        "\n",
        "#-- create initial w0=0,b0=0\n",
        "m,n=X_train_leu.shape\n",
        "w0=np.zeros((n,1))\n",
        "b0=0.41\n",
        "#--train--\n",
        "task_leu1=SVM(X_train_leu,y_train_leu)\n",
        "w,b,lst_cost_1,it_1=task_leu1.solver(key=2,w0=w0,b0=b0,learning_rate=0.000000005,max_time=2000)\n",
        "print('w:',w)\n",
        "print('b:',b)\n",
        "\n",
        "#--measure time to run code\n",
        "end_time = time.time()\n",
        "elapsed_time = end_time - start_time\n",
        "time_run_leu['sub']=elapsed_time\n",
        "print('Running time:',time_run_leu['sub'])\n",
        "\n",
        "#- save w,b\n",
        "result_leu['sub']=(w,b)\n",
        "\n",
        "#--predict\n",
        "y_predict_leu=task_leu1.predict(X_test_leu)\n",
        "\n",
        "#--accuracy\n",
        "print('accuracy:{:.2f} %'.format(accuracy_score(y_predict_leu.reshape(-1,),y_test_leu.reshape(-1,))*100))\n"
      ],
      "execution_count": null,
      "outputs": [
        {
          "output_type": "stream",
          "name": "stdout",
          "text": [
            "solved by unconstranted problem with Reg=0\n",
            "iter 1 cost: 3115.184883\n",
            "iter 1001 cost: 0.001911\n",
            "Stopped by max iteration\n",
            "w: [[-0.00128605]\n",
            " [-0.00031235]\n",
            " [ 0.00022624]\n",
            " ...\n",
            " [ 0.00024386]\n",
            " [-0.00255507]\n",
            " [-0.00014742]]\n",
            "b: [0.4107325]\n",
            "Running time: 4.31847357749939\n",
            "accuracy:91.18 %\n"
          ]
        }
      ]
    },
    {
      "cell_type": "code",
      "metadata": {
        "colab": {
          "base_uri": "https://localhost:8080/"
        },
        "id": "vvD6Iu927SS6",
        "outputId": "9eb56e44-9cae-4947-a14c-b609e49d8e4b"
      },
      "source": [
        "sub_solution=np.vstack((result_leu['sub'][0],result_leu['sub'][1]))\n",
        "primal_solution=np.vstack((result_leu['primal'][0],result_leu['primal'][1]))\n",
        "\n",
        "print(' distance:', np.linalg.norm(sub_solution-primal_solution))"
      ],
      "execution_count": null,
      "outputs": [
        {
          "output_type": "stream",
          "name": "stdout",
          "text": [
            " distance: 0.0221383554393568\n"
          ]
        }
      ]
    },
    {
      "cell_type": "markdown",
      "metadata": {
        "id": "x5gJstQWcKS5"
      },
      "source": [
        "distance between subgradient method solution and primal solution: 0.0221383554393568"
      ]
    },
    {
      "cell_type": "code",
      "metadata": {
        "colab": {
          "base_uri": "https://localhost:8080/",
          "height": 279
        },
        "id": "caNCEYBx7SS5",
        "outputId": "0cb6c6b5-dd96-4ee4-fcf1-b15f699ccbce"
      },
      "source": [
        "## plot\n",
        "\n",
        "\n",
        "import matplotlib.pyplot as plt\n",
        "\n",
        "plt.plot([i for i in range(it)], [np.log10(i-lst_cost[-1]) for i in lst_cost[:-1]],'b-', label='b0=0')\n",
        "plt.plot([i for i in range(it_1)], [np.log10(i-lst_cost_1[-1]) for i in lst_cost_1[:-1]],'r-', label='b0=0.41')\n",
        "plt.xlabel('Iteration')\n",
        "plt.ylabel('log_{10}(f_k-f*)')\n",
        "plt.grid(True)\n",
        "plt.legend()\n",
        "# print(a)\n",
        "plt.show()\n"
      ],
      "execution_count": null,
      "outputs": [
        {
          "output_type": "display_data",
          "data": {
            "image/png": "[encoded data removed]",
            "text/plain": [
              "<Figure size 432x288 with 1 Axes>"
            ]
          },
          "metadata": {
            "needs_background": "light"
          }
        }
      ]
    },
    {
      "cell_type": "markdown",
      "metadata": {
        "id": "L_2VAENTM4m2"
      },
      "source": [
        "### $R=\\alpha ‖·‖_1$"
      ]
    },
    {
      "cell_type": "code",
      "metadata": {
        "colab": {
          "base_uri": "https://localhost:8080/"
        },
        "id": "BACplAaaS0nc",
        "outputId": "8ff35e84-3bef-4b5b-b3e4-acd96e9e00bf"
      },
      "source": [
        "#--measure time to run code\n",
        "start_time = time.time()\n",
        "\n",
        "#-- create initial w0=0,b0=0\n",
        "m,n=X_train_leu.shape\n",
        "w0=np.zeros((n,1))\n",
        "b0=0\n",
        "#--train--\n",
        "task_leu1=SVM(X_train_leu,y_train_leu)\n",
        "w,b,lst_cost,it=task_leu1.solver(key=3,w0=w0,b0=b0,learning_rate=0.000000005,max_time=2000,Reg=1,alpha=0.0001)\n",
        "print('w:',w)\n",
        "print('b:',b)\n",
        "\n",
        "#--measure time to run code\n",
        "end_time = time.time()\n",
        "elapsed_time = end_time - start_time\n",
        "time_run_leu['sub_R']=elapsed_time\n",
        "print('Running time:',time_run_leu['sub_R'])\n",
        "\n",
        "#- save w,b\n",
        "result_leu['sub_R']=(w,b)\n",
        "\n",
        "#--predict\n",
        "y_predict_leu=task_leu1.predict(X_test_leu)\n",
        "\n",
        "#--accuracy\n",
        "print('accuracy:{:.2f} %'.format(accuracy_score(y_predict_leu.reshape(-1,),y_test_leu.reshape(-1,))*100))\n",
        "\n",
        "\n",
        "\n",
        "\n",
        "\n"
      ],
      "execution_count": null,
      "outputs": [
        {
          "output_type": "stream",
          "name": "stdout",
          "text": [
            "solved by unconstranted problem with Reg=l1-lorm\n",
            "iter 1 cost: 3771.184885\n",
            "iter 1001 cost: 0.003225\n",
            "Stopped by max iteration\n",
            "w: [[-1.11527712e-03]\n",
            " [ 4.64558953e-05]\n",
            " [ 1.85187566e-04]\n",
            " ...\n",
            " [ 5.04050009e-04]\n",
            " [-2.13412621e-03]\n",
            " [-8.66588511e-05]]\n",
            "b: [0.003265]\n",
            "Running time: 4.8924925327301025\n",
            "accuracy:82.35 %\n"
          ]
        }
      ]
    },
    {
      "cell_type": "code",
      "metadata": {
        "colab": {
          "base_uri": "https://localhost:8080/",
          "height": 279
        },
        "id": "Z1-dLz9qiaTQ",
        "outputId": "cdf9646d-e5a0-4c67-b8c3-4c303fefd05f"
      },
      "source": [
        "## plot\n",
        "\n",
        "import matplotlib.pyplot as plt\n",
        "\n",
        "plt.plot([i for i in range(it)], [np.log10(i-lst_cost[-1]) for i in lst_cost[:-1]], 'b-', color='red')\n",
        "\n",
        "plt.xlabel('Iteration')\n",
        "plt.ylabel('log_{10}(f_k-f*)')\n",
        "plt.grid(True)"
      ],
      "execution_count": null,
      "outputs": [
        {
          "output_type": "display_data",
          "data": {
            "image/png": "[encoded data removed]",
            "text/plain": [
              "<Figure size 432x288 with 1 Axes>"
            ]
          },
          "metadata": {
            "needs_background": "light"
          }
        }
      ]
    },
    {
      "cell_type": "markdown",
      "metadata": {
        "id": "knW4FNOhS_xZ"
      },
      "source": [
        "## Task 3: Train by solve dual problem with $R=0$"
      ]
    },
    {
      "cell_type": "code",
      "metadata": {
        "colab": {
          "base_uri": "https://localhost:8080/"
        },
        "id": "-eEx7kX3FQSY",
        "outputId": "ea0e0226-b49d-4e45-d255-2b6ff8c2f3cd"
      },
      "source": [
        "#--measure time to run code\n",
        "start_time = time.time()\n",
        "\n",
        "# #-- create initial w0=0,b0=0\n",
        "# m,n=X_train_leu.shape\n",
        "# w0=np.zeros((n,1))\n",
        "# b0=0\n",
        "#--train--\n",
        "task_leu=SVM(X_train_leu,y_train_leu)\n",
        "w,b=task_leu.solver(dual=2,key=4)\n",
        "print('w:',w)\n",
        "print('b:',b)\n",
        "\n",
        "#--measure time to run code\n",
        "end_time = time.time()\n",
        "elapsed_time = end_time - start_time\n",
        "time_run_leu['dual']=elapsed_time\n",
        "print('Running time:',time_run_leu['dual'])\n",
        "\n",
        "#- save w,b\n",
        "result_leu['dual']=(w,b)\n",
        "\n",
        "#--predict\n",
        "y_predict_leu=task_leu.predict(X_test_leu)\n",
        "\n",
        "#--accuracy\n",
        "print('accuracy:{:.2f} %'.format(accuracy_score(y_predict_leu.reshape(-1,),y_test_leu.reshape(-1,))*100))\n",
        "\n",
        "\n"
      ],
      "execution_count": null,
      "outputs": [
        {
          "output_type": "stream",
          "name": "stdout",
          "text": [
            "solved by dual problem with Reg=0\n",
            "     pcost       dcost       gap    pres   dres\n",
            " 0:  1.6551e+01 -3.8769e+03  8e+03  1e-02  4e-14\n",
            " 1:  1.5646e+01 -7.8712e+01  2e+02  2e-04  3e-14\n",
            " 2:  5.2076e+00 -6.9400e+00  1e+01  4e-06  3e-14\n",
            " 3:  7.8048e-01 -9.2098e-01  2e+00  2e-16  2e-14\n",
            " 4:  1.0285e-01 -1.4266e-01  2e-01  1e-16  1e-14\n",
            " 5:  1.0802e-02 -2.4104e-02  3e-02  2e-16  3e-15\n",
            " 6: -5.1808e-04 -5.2746e-03  5e-03  2e-16  2e-15\n",
            " 7: -1.5493e-03 -2.0336e-03  5e-04  2e-16  5e-16\n",
            " 8: -1.6068e-03 -1.6462e-03  4e-05  1e-16  2e-16\n",
            " 9: -1.6159e-03 -1.6189e-03  3e-06  2e-16  2e-16\n",
            "10: -1.6171e-03 -1.6173e-03  2e-07  2e-16  2e-16\n",
            "11: -1.6172e-03 -1.6172e-03  1e-08  2e-16  2e-16\n",
            "Optimal solution found.\n",
            "w: [[-1.26708919e-03]\n",
            " [-3.15899694e-04]\n",
            " [ 4.42377693e-04]\n",
            " ...\n",
            " [ 9.00043927e-05]\n",
            " [-2.47749502e-03]\n",
            " [-1.30369566e-04]]\n",
            "b: [0.4277048]\n",
            "Running time: 0.05626058578491211\n",
            "accuracy:82.35 %\n"
          ]
        }
      ]
    },
    {
      "cell_type": "markdown",
      "metadata": {
        "id": "-yUMXKqaXd6H"
      },
      "source": [
        "## Train by package sklearn.svm.SVC with $R=0$"
      ]
    },
    {
      "cell_type": "code",
      "metadata": {
        "colab": {
          "base_uri": "https://localhost:8080/"
        },
        "id": "1JZXQNIWX5LG",
        "outputId": "b4e230a4-171b-4ede-d52d-5e8a6f3ca926"
      },
      "source": [
        "from sklearn.svm import SVC\n",
        "#--measure time to run code\n",
        "start_time = time.time()\n",
        "print('solved by sklearn.svm.SVC')\n",
        "C = 100\n",
        "clf = SVC(kernel = 'linear', C = C)\n",
        "clf.fit(X_train_leu, y_train_leu.reshape((-1,)))\n",
        "\n",
        "w_sklearn = clf.coef_.reshape(-1, 1)\n",
        "b_sklearn = clf.intercept_[0]\n",
        "#-- save w,b\n",
        "result_leu['sklearn']=(w_sklearn,b_sklearn)\n",
        "print('w: ',w_sklearn)\n",
        "print('b: ',b_sklearn)\n",
        "\n",
        "#--measure time to run code\n",
        "end_time = time.time()\n",
        "elapsed_time = end_time - start_time\n",
        "time_run_leu['sklearn']=elapsed_time\n",
        "print('Running time:',time_run_leu['sklearn'])\n",
        "\n",
        "#--predict\n",
        "y_predict_leu = clf.predict(X_test_leu)\n",
        "\n",
        "# y_predict_leu=task_leu.predict(X_test_leu)\n",
        "\n",
        "#--accuracy\n",
        "print('accuracy:{:.2f} %'.format(accuracy_score(y_predict_leu.reshape(-1,),y_test_leu.reshape(-1,))*100))"
      ],
      "execution_count": null,
      "outputs": [
        {
          "output_type": "stream",
          "name": "stdout",
          "text": [
            "solved by sklearn.svm.SVC\n",
            "w:  [[-1.26629026e-03]\n",
            " [-3.15977155e-04]\n",
            " [ 4.41701996e-04]\n",
            " ...\n",
            " [ 8.94080208e-05]\n",
            " [-2.47747125e-03]\n",
            " [-1.30397536e-04]]\n",
            "b:  0.4275808701001927\n",
            "Running time: 0.021550655364990234\n",
            "accuracy:82.35 %\n"
          ]
        }
      ]
    },
    {
      "cell_type": "markdown",
      "metadata": {
        "id": "t3ZXf0TW-2yu"
      },
      "source": [
        "## Compare running time"
      ]
    },
    {
      "cell_type": "code",
      "metadata": {
        "colab": {
          "base_uri": "https://localhost:8080/",
          "height": 343
        },
        "id": "W5avZzUoBVaM",
        "outputId": "7dacf706-a629-4a23-d471-4dd6728fc83f"
      },
      "source": [
        "fig, ax = plt.subplots()\n",
        "# plt.style.use('fivethirtyeight')\n",
        "ax.grid(False)\n",
        "\n",
        "ax.set( xlabel='Time', ylabel='Method',\n",
        "       title='''\n",
        "        Leukemia\n",
        "       Running time''')\n",
        "ax.barh(list(time_run_leu.keys()), list(time_run_leu.values()))"
      ],
      "execution_count": null,
      "outputs": [
        {
          "output_type": "execute_result",
          "data": {
            "text/plain": [
              "<BarContainer object of 5 artists>"
            ]
          },
          "metadata": {},
          "execution_count": 25
        },
        {
          "output_type": "display_data",
          "data": {
            "image/png": "[encoded data removed]",
            "text/plain": [
              "<Figure size 432x288 with 1 Axes>"
            ]
          },
          "metadata": {
            "needs_background": "light"
          }
        }
      ]
    },
    {
      "cell_type": "markdown",
      "metadata": {
        "id": "zzQyr1VoNkoO"
      },
      "source": [
        "# Working with Colon-Cancer dataset"
      ]
    },
    {
      "cell_type": "markdown",
      "metadata": {
        "id": "dAmWSWyZNyC_"
      },
      "source": [
        "## Prepare data"
      ]
    },
    {
      "cell_type": "code",
      "metadata": {
        "id": "YQlSIr4bNyDA",
        "colab": {
          "base_uri": "https://localhost:8080/"
        },
        "outputId": "ac02f257-204a-480a-b023-430d2de7a928"
      },
      "source": [
        "!pip install wget\n",
        "import wget\n",
        "from os import path\n",
        "!pip install libsvm\n",
        "from libsvm.svmutil import svm_read_problem\n",
        "from sklearn.preprocessing import StandardScaler\n",
        "\n",
        "from sklearn.feature_extraction import DictVectorizer\n"
      ],
      "execution_count": null,
      "outputs": [
        {
          "output_type": "stream",
          "name": "stdout",
          "text": [
            "Collecting wget\n",
            "  Downloading wget-3.2.zip (10 kB)\n",
            "Building wheels for collected packages: wget\n",
            "  Building wheel for wget (setup.py) ... \u001b[?25l\u001b[?25hdone\n",
            "  Created wheel for wget: filename=wget-3.2-py3-none-any.whl size=9672 sha256=4d1701fc05c5565c476e793afeb6ee1ed2e91a9c701a2f0a431cf360f2b3b276\n",
            "  Stored in directory: /root/.cache/pip/wheels/a1/b6/7c/0e63e34eb06634181c63adacca38b79ff8f35c37e3c13e3c02\n",
            "Successfully built wget\n",
            "Installing collected packages: wget\n",
            "Successfully installed wget-3.2\n",
            "Collecting libsvm\n",
            "  Downloading libsvm-3.23.0.4.tar.gz (170 kB)\n",
            "\u001b[K     |████████████████████████████████| 170 kB 4.0 MB/s \n",
            "\u001b[?25hBuilding wheels for collected packages: libsvm\n",
            "  Building wheel for libsvm (setup.py) ... \u001b[?25l\u001b[?25hdone\n",
            "  Created wheel for libsvm: filename=libsvm-3.23.0.4-cp37-cp37m-linux_x86_64.whl size=233369 sha256=9d3e0eba5e42d0b1f4f443aa706fdd8b2828fdf8c7363b98d7d5e90d41cbad08\n",
            "  Stored in directory: /root/.cache/pip/wheels/cd/e8/1e/bf95cf256e4d3ffc94289ab508c49d48e34c98220af63e3513\n",
            "Successfully built libsvm\n",
            "Installing collected packages: libsvm\n",
            "Successfully installed libsvm-3.23.0.4\n"
          ]
        }
      ]
    },
    {
      "cell_type": "code",
      "metadata": {
        "colab": {
          "base_uri": "https://localhost:8080/"
        },
        "id": "yG_SjfBmNyDB",
        "outputId": "881d3871-3023-4568-dcd1-65b7dd666d5b"
      },
      "source": [
        "# get trainning data\n",
        "wget.download('https://www.csie.ntu.edu.tw/~cjlin/libsvmtools/datasets/binary/colon-cancer.bz2','colon-cancer.bz2')\n",
        "\n"
      ],
      "execution_count": null,
      "outputs": [
        {
          "output_type": "execute_result",
          "data": {
            "application/vnd.google.colaboratory.intrinsic+json": {
              "type": "string"
            },
            "text/plain": [
              "'colon-cancer.bz2'"
            ]
          },
          "metadata": {},
          "execution_count": 4
        }
      ]
    },
    {
      "cell_type": "code",
      "metadata": {
        "id": "PAJ4k95HNyDC"
      },
      "source": [
        "!bunzip2 colon-cancer.bz2\n"
      ],
      "execution_count": null,
      "outputs": []
    },
    {
      "cell_type": "code",
      "metadata": {
        "id": "yI0NHI7sNyDD"
      },
      "source": [
        "y_colon, X_colon = svm_read_problem('colon-cancer')\n",
        "v = DictVectorizer(sparse=False)\n",
        "X_colon = v.fit_transform(X_colon)\n",
        "\n",
        "# reshape y\n",
        "y_colon=np.array(y_colon).reshape((-1,1))\n",
        "# print(y.shape)\n",
        "\n",
        "\n"
      ],
      "execution_count": null,
      "outputs": []
    },
    {
      "cell_type": "code",
      "metadata": {
        "id": "2jLwdPb2NyDE"
      },
      "source": [
        "# split data\n",
        "from sklearn.model_selection import train_test_split\n",
        "X_train_colon, X_test_colon, y_train_colon, y_test_colon = train_test_split(X_colon, y_colon, test_size=0.2, random_state=42)\n",
        "\n",
        "# normailize\n",
        "std = StandardScaler()\n",
        "X_train_colon = std.fit_transform(X_train_colon)\n",
        "X_test_colon = std.transform(X_test_colon)\n"
      ],
      "execution_count": null,
      "outputs": []
    },
    {
      "cell_type": "code",
      "metadata": {
        "colab": {
          "base_uri": "https://localhost:8080/"
        },
        "id": "Rm4cmwjMNyDE",
        "outputId": "7694088f-05f6-478e-e07e-5b853813e468"
      },
      "source": [
        "# of classes: 2\n",
        "# of data: 62\n",
        "# of features: 2,000\n",
        "print(X_train_colon.shape)\n",
        "print(y_train_colon.shape)\n",
        "print(X_test_colon.shape)\n",
        "print(y_test_colon.shape)\n"
      ],
      "execution_count": null,
      "outputs": [
        {
          "output_type": "stream",
          "name": "stdout",
          "text": [
            "(49, 2000)\n",
            "(49, 1)\n",
            "(13, 2000)\n",
            "(13, 1)\n"
          ]
        }
      ]
    },
    {
      "cell_type": "markdown",
      "metadata": {
        "id": "ALa0p-EVNkoW"
      },
      "source": [
        "## Task 1: Use  a  solver  to  train with $R=  0 $ and $R=\\alpha ‖·‖_1$"
      ]
    },
    {
      "cell_type": "markdown",
      "metadata": {
        "id": "HVuVZdvtNkoX"
      },
      "source": [
        "### Use CVXOPT Solvers.qp to train with $R=0$"
      ]
    },
    {
      "cell_type": "code",
      "metadata": {
        "colab": {
          "base_uri": "https://localhost:8080/"
        },
        "id": "ogHmbz4CNkoX",
        "outputId": "757b72bb-12f0-47a6-a90b-49799e38a2bf"
      },
      "source": [
        "#--measure time to run code\n",
        "start_time = time.time()\n",
        "\n",
        "#--train--\n",
        "task_colon=SVM(X_train_colon,y_train_colon)\n",
        "w,b=task_colon.solver()\n",
        "print('w:',w)\n",
        "print('b:',b)\n",
        "\n",
        "#--measure time to run code\n",
        "end_time = time.time()\n",
        "elapsed_time = end_time - start_time\n",
        "time_run_colon['primal']=elapsed_time\n",
        "print('Running time:',time_run_colon['primal'])\n",
        "\n",
        "#- save w,b\n",
        "result_colon['primal']=(w,b)\n",
        "\n",
        "#--predict\n",
        "y_predict_colon=task_colon.predict(X_test_colon)\n",
        "\n",
        "#--accuracy\n",
        "print('accuracy:{:.2f} %'.format(accuracy_score(y_predict_colon.reshape(-1,),y_test_colon.reshape(-1,))*100))\n",
        "\n",
        "\n"
      ],
      "execution_count": null,
      "outputs": [
        {
          "output_type": "stream",
          "name": "stdout",
          "text": [
            "solved by primal problem with Reg=0\n",
            "     pcost       dcost       gap    pres   dres\n",
            " 0: -4.8961e+05  5.2244e+03  1e+04  1e+02  8e-01\n",
            " 1: -2.6579e+04 -3.3178e+02  8e+02  8e+00  5e-02\n",
            " 2:  3.2837e+01 -2.5113e+01  6e+01  1e-13  1e-13\n",
            " 3:  4.1780e+00 -3.4634e+00  8e+00  1e-13  1e-15\n",
            " 4:  6.5608e-01 -4.4513e-01  1e+00  4e-14  9e-16\n",
            " 5:  1.1534e-01 -4.0596e-02  2e-01  1e-14  1e-15\n",
            " 6:  2.7860e-02  7.2293e-03  2e-02  5e-15  8e-16\n",
            " 7:  1.2942e-02  1.1225e-02  2e-03  3e-15  9e-16\n",
            " 8:  1.1699e-02  1.1559e-02  1e-04  2e-15  9e-16\n",
            " 9:  1.1610e-02  1.1606e-02  4e-06  1e-15  9e-16\n",
            "10:  1.1608e-02  1.1608e-02  4e-08  1e-15  1e-15\n",
            "Optimal solution found.\n",
            "w: [[ 0.00313486]\n",
            " [-0.00064277]\n",
            " [-0.00246084]\n",
            " ...\n",
            " [-0.00445036]\n",
            " [-0.00216626]\n",
            " [-0.00490984]]\n",
            "b: [-0.49608594]\n",
            "Running time: 1.9708428382873535\n",
            "accuracy:84.62 %\n"
          ]
        }
      ]
    },
    {
      "cell_type": "markdown",
      "metadata": {
        "id": "nRlFCehONkoY"
      },
      "source": [
        "### Use CVXOPT Solvers.qp to train with $R=\\alpha ‖·‖_1$"
      ]
    },
    {
      "cell_type": "code",
      "metadata": {
        "colab": {
          "base_uri": "https://localhost:8080/"
        },
        "id": "_susrc8INkoY",
        "outputId": "5c60e188-c3b7-42c2-9426-fe7b2bca054d"
      },
      "source": [
        "#--measure time to run code\n",
        "start_time = time.time()\n",
        "\n",
        "#--train--\n",
        "task_colon=SVM(X_train_colon,y_train_colon)\n",
        "w,b=task_colon.solver(key=1,alpha=0.001)\n",
        "print('w:',w)\n",
        "print('b:',b)\n",
        "# print('count elements are nonzero',np.count_nonzero(np.vstack((w,b))))\n",
        "\n",
        "#--measure time to run code\n",
        "end_time = time.time()\n",
        "elapsed_time = end_time - start_time\n",
        "time_run_colon['primal_R']=elapsed_time\n",
        "print('Running time:',time_run_colon['primal_R'])\n",
        "\n",
        "#- save w,b\n",
        "result_colon['primal_R']=(w,b)\n",
        "\n",
        "#--predict\n",
        "y_predict_colon=task_colon.predict(X_test_colon)\n",
        "\n",
        "#--accuracy\n",
        "print('accuracy:{:.2f} %'.format(accuracy_score(y_predict_colon.reshape(-1,),y_test_colon.reshape(-1,))*100))\n",
        "\n",
        "\n"
      ],
      "execution_count": null,
      "outputs": [
        {
          "output_type": "stream",
          "name": "stdout",
          "text": [
            "solved by primal problem with Reg=l1-norm\n",
            "     pcost       dcost       gap    pres   dres\n",
            " 0: -4.8948e+05  8.3451e+03  7e+05  9e+02  2e+00\n",
            " 1: -2.1617e+04 -3.0536e+04  3e+04  4e+01  9e-02\n",
            " 2: -7.7873e-01 -6.4144e+02  1e+03  8e-01  2e-03\n",
            " 3:  1.5580e+02 -4.4960e+00  2e+02  8e-12  4e-16\n",
            " 4:  2.4248e+00 -5.9604e-01  3e+00  3e-12  4e-16\n",
            " 5:  2.1360e-01 -6.6487e-02  3e-01  1e-13  2e-16\n",
            " 6:  4.9619e-02  7.7935e-03  4e-02  1e-14  2e-16\n",
            " 7:  2.0175e-02  1.5196e-02  5e-03  4e-15  2e-16\n",
            " 8:  1.7431e-02  1.6354e-02  1e-03  2e-15  2e-16\n",
            " 9:  1.6760e-02  1.6689e-02  7e-05  2e-15  2e-16\n",
            "10:  1.6720e-02  1.6718e-02  3e-06  2e-15  2e-16\n",
            "11:  1.6719e-02  1.6719e-02  7e-08  2e-15  2e-16\n",
            "12:  1.6719e-02  1.6719e-02  3e-09  3e-15  2e-16\n",
            "13:  1.6719e-02  1.6719e-02  1e-10  2e-15  1e-16\n",
            "14:  1.6719e-02  1.6719e-02  3e-12  2e-15  2e-16\n",
            "Optimal solution found.\n",
            "w: [[ 2.87447297e-03]\n",
            " [-2.84842574e-13]\n",
            " [-2.04800234e-03]\n",
            " ...\n",
            " [-4.40001929e-03]\n",
            " [-1.70090032e-03]\n",
            " [-4.91259971e-03]]\n",
            "b: [-0.49236312]\n",
            "Running time: 145.14122653007507\n",
            "accuracy:84.62 %\n"
          ]
        }
      ]
    },
    {
      "cell_type": "markdown",
      "metadata": {
        "id": "81KUgVKeNkoZ"
      },
      "source": [
        "## Task2: Use the subgradient method to solve this problem"
      ]
    },
    {
      "cell_type": "markdown",
      "metadata": {
        "id": "p5t95XT2NkoZ"
      },
      "source": [
        "### $R=0$"
      ]
    },
    {
      "cell_type": "code",
      "metadata": {
        "colab": {
          "base_uri": "https://localhost:8080/"
        },
        "id": "tS7OAZCyNkoZ",
        "outputId": "0c5d77e4-43be-4924-9e27-eae6a806351a"
      },
      "source": [
        "#--measure time to run code\n",
        "start_time = time.time()\n",
        "\n",
        "#-- create initial w0=0,b0=0\n",
        "np.random.seed(1)\n",
        "m,n=X_train_colon.shape\n",
        "w0=np.random.rand(n,1)\n",
        "b0=np.random.rand(1)\n",
        "\n",
        "#--train--\n",
        "task_colon=SVM(X_train_colon,y_train_colon)\n",
        "w,b,lst_cost,it=task_colon.solver(key=2,w0=w0,b0=b0,learning_rate=0.000015,max_time=300000)\n",
        "print('w:',w)\n",
        "print('b:',b)\n",
        "\n",
        "#--measure time to run code\n",
        "end_time = time.time()\n",
        "elapsed_time = end_time - start_time\n",
        "time_run_colon['sub']=elapsed_time\n",
        "print('Running time:',time_run_colon['sub'])\n",
        "\n",
        "#- save w,b\n",
        "result_colon['sub']=(w,b)\n",
        "\n",
        "#--predict\n",
        "y_predict_colon=task_colon.predict(X_test_colon)\n",
        "\n",
        "#--accuracy\n",
        "print('accuracy:{:.2f} %'.format(accuracy_score(y_predict_colon.reshape(-1,),y_test_colon.reshape(-1,))*100))\n"
      ],
      "execution_count": null,
      "outputs": [
        {
          "output_type": "stream",
          "name": "stdout",
          "text": [
            "solved by unconstranted problem with Reg=0\n",
            "iter 1 cost: 35610.857387\n",
            "iter 1001 cost: 330.849989\n",
            "iter 2001 cost: 321.071822\n",
            "iter 3001 cost: 311.582645\n",
            "iter 4001 cost: 302.373918\n",
            "iter 5001 cost: 293.447170\n",
            "iter 6001 cost: 284.781746\n",
            "iter 7001 cost: 276.365111\n",
            "iter 8001 cost: 268.197228\n",
            "iter 9001 cost: 260.270743\n",
            "iter 10001 cost: 252.578523\n",
            "iter 11001 cost: 245.113645\n",
            "iter 12001 cost: 237.869388\n",
            "iter 13001 cost: 230.839233\n",
            "iter 14001 cost: 224.016853\n",
            "iter 15001 cost: 217.396105\n",
            "iter 16001 cost: 210.971032\n",
            "iter 17001 cost: 204.735849\n",
            "iter 18001 cost: 198.684946\n",
            "iter 19001 cost: 192.812875\n",
            "iter 20001 cost: 187.114351\n",
            "iter 21001 cost: 181.584245\n",
            "iter 22001 cost: 176.217580\n",
            "iter 23001 cost: 171.009525\n",
            "iter 24001 cost: 165.955393\n",
            "iter 25001 cost: 161.050633\n",
            "iter 26001 cost: 156.290833\n",
            "iter 27001 cost: 151.671706\n",
            "iter 28001 cost: 147.189097\n",
            "iter 29001 cost: 142.838970\n",
            "iter 30001 cost: 138.617409\n",
            "iter 31001 cost: 134.625729\n",
            "iter 32001 cost: 130.646908\n",
            "iter 33001 cost: 126.785680\n",
            "iter 34001 cost: 123.038569\n",
            "iter 35001 cost: 119.402203\n",
            "iter 36001 cost: 115.873309\n",
            "iter 37001 cost: 112.448710\n",
            "iter 38001 cost: 109.125323\n",
            "iter 39001 cost: 105.900159\n",
            "iter 40001 cost: 102.770313\n",
            "iter 41001 cost: 99.732969\n",
            "iter 42001 cost: 96.785392\n",
            "iter 43001 cost: 93.924931\n",
            "iter 44001 cost: 91.149009\n",
            "iter 45001 cost: 88.458592\n",
            "iter 46001 cost: 85.844226\n",
            "iter 47001 cost: 83.307127\n",
            "iter 48001 cost: 80.845011\n",
            "iter 49001 cost: 78.455662\n",
            "iter 50001 cost: 76.136930\n",
            "iter 51001 cost: 73.886727\n",
            "iter 52001 cost: 71.703028\n",
            "iter 53001 cost: 69.583868\n",
            "iter 54001 cost: 67.527338\n",
            "iter 55001 cost: 65.531589\n",
            "iter 56001 cost: 63.633909\n",
            "iter 57001 cost: 61.753229\n",
            "iter 58001 cost: 59.928132\n",
            "iter 59001 cost: 58.156975\n",
            "iter 60001 cost: 56.438164\n",
            "iter 61001 cost: 54.770151\n",
            "iter 62001 cost: 53.151437\n",
            "iter 63001 cost: 51.580563\n",
            "iter 64001 cost: 50.056116\n",
            "iter 65001 cost: 48.576723\n",
            "iter 66001 cost: 47.141053\n",
            "iter 67001 cost: 45.747814\n",
            "iter 68001 cost: 44.395752\n",
            "iter 69001 cost: 43.083649\n",
            "iter 70001 cost: 41.810326\n",
            "iter 71001 cost: 40.574635\n",
            "iter 72001 cost: 39.375464\n",
            "iter 73001 cost: 38.273631\n",
            "iter 74001 cost: 37.142466\n",
            "iter 75001 cost: 36.044732\n",
            "iter 76001 cost: 34.979441\n",
            "iter 77001 cost: 33.945635\n",
            "iter 78001 cost: 32.974292\n",
            "iter 79001 cost: 31.999748\n",
            "iter 80001 cost: 31.057517\n",
            "iter 81001 cost: 30.139622\n",
            "iter 82001 cost: 29.248855\n",
            "iter 83001 cost: 28.384414\n",
            "iter 84001 cost: 27.545522\n",
            "iter 85001 cost: 26.731423\n",
            "iter 86001 cost: 25.941384\n",
            "iter 87001 cost: 25.174695\n",
            "iter 88001 cost: 24.430664\n",
            "iter 89001 cost: 23.708624\n",
            "iter 90001 cost: 23.007923\n",
            "iter 91001 cost: 22.327931\n",
            "iter 92001 cost: 21.668036\n",
            "iter 93001 cost: 21.027644\n",
            "iter 94001 cost: 20.406179\n",
            "iter 95001 cost: 19.803081\n",
            "iter 96001 cost: 19.217807\n",
            "iter 97001 cost: 18.649831\n",
            "iter 98001 cost: 18.098641\n",
            "iter 99001 cost: 17.563741\n",
            "iter 100001 cost: 17.044650\n",
            "iter 101001 cost: 16.540901\n",
            "iter 102001 cost: 16.109346\n",
            "iter 103001 cost: 15.633239\n",
            "iter 104001 cost: 15.174789\n",
            "iter 105001 cost: 14.726302\n",
            "iter 106001 cost: 14.291071\n",
            "iter 107001 cost: 13.868703\n",
            "iter 108001 cost: 13.458818\n",
            "iter 109001 cost: 13.061047\n",
            "iter 110001 cost: 12.675032\n",
            "iter 111001 cost: 12.300425\n",
            "iter 112001 cost: 11.936890\n",
            "iter 113001 cost: 11.584099\n",
            "iter 114001 cost: 11.241735\n",
            "iter 115001 cost: 10.909489\n",
            "iter 116001 cost: 10.587062\n",
            "iter 117001 cost: 10.274165\n",
            "iter 118001 cost: 9.970515\n",
            "iter 119001 cost: 9.675840\n",
            "iter 120001 cost: 9.389873\n",
            "iter 121001 cost: 9.112359\n",
            "iter 122001 cost: 8.843046\n",
            "iter 123001 cost: 8.581692\n",
            "iter 124001 cost: 8.328063\n",
            "iter 125001 cost: 8.081930\n",
            "iter 126001 cost: 7.843071\n",
            "iter 127001 cost: 7.611271\n",
            "iter 128001 cost: 7.521172\n",
            "iter 129001 cost: 7.298887\n",
            "iter 130001 cost: 7.083170\n",
            "iter 131001 cost: 6.873829\n",
            "iter 132001 cost: 6.670676\n",
            "iter 133001 cost: 6.473526\n",
            "iter 134001 cost: 6.282203\n",
            "iter 135001 cost: 6.096534\n",
            "iter 136001 cost: 5.916353\n",
            "iter 137001 cost: 5.741497\n",
            "iter 138001 cost: 5.571809\n",
            "iter 139001 cost: 5.407136\n",
            "iter 140001 cost: 5.247330\n",
            "iter 141001 cost: 5.092247\n",
            "iter 142001 cost: 4.941747\n",
            "iter 143001 cost: 4.795695\n",
            "iter 144001 cost: 4.653960\n",
            "iter 145001 cost: 4.516414\n",
            "iter 146001 cost: 4.382932\n",
            "iter 147001 cost: 4.253396\n",
            "iter 148001 cost: 4.127688\n",
            "iter 149001 cost: 4.005696\n",
            "iter 150001 cost: 3.887309\n",
            "iter 151001 cost: 3.772421\n",
            "iter 152001 cost: 3.660928\n",
            "iter 153001 cost: 3.552730\n",
            "iter 154001 cost: 3.447730\n",
            "iter 155001 cost: 3.345834\n",
            "iter 156001 cost: 3.423267\n",
            "iter 157001 cost: 3.322093\n",
            "iter 158001 cost: 3.223910\n",
            "iter 159001 cost: 3.128628\n",
            "iter 160001 cost: 3.036162\n",
            "iter 161001 cost: 2.946430\n",
            "iter 162001 cost: 2.859349\n",
            "iter 163001 cost: 2.774842\n",
            "iter 164001 cost: 2.692832\n",
            "iter 165001 cost: 2.613246\n",
            "iter 166001 cost: 2.536013\n",
            "iter 167001 cost: 2.461061\n",
            "iter 168001 cost: 2.388326\n",
            "iter 169001 cost: 2.317739\n",
            "iter 170001 cost: 2.249239\n",
            "iter 171001 cost: 2.182764\n",
            "iter 172001 cost: 2.118253\n",
            "iter 173001 cost: 2.055649\n",
            "iter 174001 cost: 1.994895\n",
            "iter 175001 cost: 1.935936\n",
            "iter 176001 cost: 1.878720\n",
            "iter 177001 cost: 1.856059\n",
            "iter 178001 cost: 1.801203\n",
            "iter 179001 cost: 1.747969\n",
            "iter 180001 cost: 1.696309\n",
            "iter 181001 cost: 1.646175\n",
            "iter 182001 cost: 1.597523\n",
            "iter 183001 cost: 1.550308\n",
            "iter 184001 cost: 1.504490\n",
            "iter 185001 cost: 1.460025\n",
            "iter 186001 cost: 1.416874\n",
            "iter 187001 cost: 1.378301\n",
            "iter 188001 cost: 1.337566\n",
            "iter 189001 cost: 1.298034\n",
            "iter 190001 cost: 1.259671\n",
            "iter 191001 cost: 1.222442\n",
            "iter 192001 cost: 1.186313\n",
            "iter 193001 cost: 1.161221\n",
            "iter 194001 cost: 1.126902\n",
            "iter 195001 cost: 1.093596\n",
            "iter 196001 cost: 1.061275\n",
            "iter 197001 cost: 1.029910\n",
            "iter 198001 cost: 0.999471\n",
            "iter 199001 cost: 0.969932\n",
            "iter 200001 cost: 0.941266\n",
            "iter 201001 cost: 0.913447\n",
            "iter 202001 cost: 0.886451\n",
            "iter 203001 cost: 0.860252\n",
            "iter 204001 cost: 0.834827\n",
            "iter 205001 cost: 0.810154\n",
            "iter 206001 cost: 0.786210\n",
            "iter 207001 cost: 0.762974\n",
            "iter 208001 cost: 0.740425\n",
            "iter 209001 cost: 0.940516\n",
            "iter 210001 cost: 0.912719\n",
            "iter 211001 cost: 0.885744\n",
            "iter 212001 cost: 0.859566\n",
            "iter 213001 cost: 0.834162\n",
            "iter 214001 cost: 0.809508\n",
            "iter 215001 cost: 0.785584\n",
            "iter 216001 cost: 0.762366\n",
            "iter 217001 cost: 0.739834\n",
            "iter 218001 cost: 0.717969\n",
            "iter 219001 cost: 0.696750\n",
            "iter 220001 cost: 0.676157\n",
            "iter 221001 cost: 0.656174\n",
            "iter 222001 cost: 0.636781\n",
            "iter 223001 cost: 0.617961\n",
            "iter 224001 cost: 0.599697\n",
            "iter 225001 cost: 0.581973\n",
            "iter 226001 cost: 0.564773\n",
            "iter 227001 cost: 0.548082\n",
            "iter 228001 cost: 0.531883\n",
            "iter 229001 cost: 0.516164\n",
            "iter 230001 cost: 0.500909\n",
            "iter 231001 cost: 0.486104\n",
            "iter 232001 cost: 0.471738\n",
            "iter 233001 cost: 0.457796\n",
            "iter 234001 cost: 0.444266\n",
            "iter 235001 cost: 0.431135\n",
            "iter 236001 cost: 0.418393\n",
            "iter 237001 cost: 0.406028\n",
            "iter 238001 cost: 0.394028\n",
            "iter 239001 cost: 0.382383\n",
            "iter 240001 cost: 0.371081\n",
            "iter 241001 cost: 0.360114\n",
            "iter 242001 cost: 0.349471\n",
            "iter 243001 cost: 0.339143\n",
            "iter 244001 cost: 0.347516\n",
            "iter 245001 cost: 0.337246\n",
            "iter 246001 cost: 0.327278\n",
            "iter 247001 cost: 0.317606\n",
            "iter 248001 cost: 0.308219\n",
            "iter 249001 cost: 0.387019\n",
            "iter 250001 cost: 0.375580\n",
            "iter 251001 cost: 0.364480\n",
            "iter 252001 cost: 0.353708\n",
            "iter 253001 cost: 0.343254\n",
            "iter 254001 cost: 0.333110\n",
            "iter 255001 cost: 0.323265\n",
            "iter 256001 cost: 0.313711\n",
            "iter 257001 cost: 0.304439\n",
            "iter 258001 cost: 0.295441\n",
            "iter 259001 cost: 0.286710\n",
            "iter 260001 cost: 0.278236\n",
            "iter 261001 cost: 0.270013\n",
            "iter 262001 cost: 0.262033\n",
            "iter 263001 cost: 0.254289\n",
            "iter 264001 cost: 0.246773\n",
            "iter 265001 cost: 0.239480\n",
            "iter 266001 cost: 0.232402\n",
            "iter 267001 cost: 0.225534\n",
            "iter 268001 cost: 0.218868\n",
            "iter 269001 cost: 0.212399\n",
            "iter 270001 cost: 0.206122\n",
            "iter 271001 cost: 0.200030\n",
            "iter 272001 cost: 0.194118\n",
            "iter 273001 cost: 0.188381\n",
            "iter 274001 cost: 0.380732\n",
            "iter 275001 cost: 0.369479\n",
            "iter 276001 cost: 0.358559\n",
            "iter 277001 cost: 0.347962\n",
            "iter 278001 cost: 0.337678\n",
            "iter 279001 cost: 0.327698\n",
            "iter 280001 cost: 0.318013\n",
            "iter 281001 cost: 0.308615\n",
            "iter 282001 cost: 0.299494\n",
            "iter 283001 cost: 0.290642\n",
            "iter 284001 cost: 0.282052\n",
            "iter 285001 cost: 0.273716\n",
            "iter 286001 cost: 0.265627\n",
            "iter 287001 cost: 0.257776\n",
            "iter 288001 cost: 0.250158\n",
            "iter 289001 cost: 0.242764\n",
            "iter 290001 cost: 0.235590\n",
            "iter 291001 cost: 0.228627\n",
            "iter 292001 cost: 0.221870\n",
            "iter 293001 cost: 0.215312\n",
            "iter 294001 cost: 0.208949\n",
            "iter 295001 cost: 0.226872\n",
            "iter 296001 cost: 0.220166\n",
            "iter 297001 cost: 0.213660\n",
            "iter 298001 cost: 0.207345\n",
            "iter 299001 cost: 0.201217\n",
            "Stopped by max iteration\n",
            "w: [[ 0.0205644 ]\n",
            " [ 0.01541731]\n",
            " [ 0.00023885]\n",
            " ...\n",
            " [-0.00568798]\n",
            " [-0.00505122]\n",
            " [-0.00354883]]\n",
            "b: [-0.07102215]\n",
            "Running time: 327.9976124763489\n",
            "accuracy:61.54 %\n"
          ]
        }
      ]
    },
    {
      "cell_type": "code",
      "metadata": {
        "colab": {
          "base_uri": "https://localhost:8080/"
        },
        "id": "ArRxGet8WxVz",
        "outputId": "06310895-261e-4a9d-d437-785c7afdd483"
      },
      "source": [
        "sub_solution=np.vstack((result_colon['sub'][0],result_colon['sub'][1]))\n",
        "primal_solution=np.vstack((result_colon['primal'][0],result_colon['primal'][1]))\n",
        "\n",
        "print(' distance between subgradient method solution and primal solution:', np.linalg.norm(sub_solution-primal_solution))"
      ],
      "execution_count": null,
      "outputs": [
        {
          "output_type": "stream",
          "name": "stdout",
          "text": [
            " distance between subgradient method solution and primal solution: 0.6634550204432874\n"
          ]
        }
      ]
    },
    {
      "cell_type": "code",
      "metadata": {
        "colab": {
          "base_uri": "https://localhost:8080/",
          "height": 335
        },
        "id": "SdY41YgYisST",
        "outputId": "4ff4b364-7c40-462c-8b09-9ae727745276"
      },
      "source": [
        "## plot\n",
        "\n",
        "import matplotlib.pyplot as plt\n",
        "\n",
        "plt.plot([i for i in range(it)], [np.log10(i-lst_cost[-1]) for i in lst_cost[:-1]], 'b-', color='red')\n",
        "\n",
        "plt.xlabel('Iteration')\n",
        "plt.ylabel('log_{10}(f_k-f*)')\n",
        "plt.grid(True)"
      ],
      "execution_count": null,
      "outputs": [
        {
          "output_type": "stream",
          "name": "stderr",
          "text": [
            "/usr/local/lib/python3.7/dist-packages/ipykernel_launcher.py:5: RuntimeWarning: invalid value encountered in log10\n",
            "  \"\"\"\n"
          ]
        },
        {
          "output_type": "display_data",
          "data": {
            "image/png": "[encoded data removed]",
            "text/plain": [
              "<Figure size 432x288 with 1 Axes>"
            ]
          },
          "metadata": {
            "needs_background": "light"
          }
        }
      ]
    },
    {
      "cell_type": "markdown",
      "metadata": {
        "id": "xVf6_DqHNkoa"
      },
      "source": [
        "### $R=\\alpha ‖·‖_1$"
      ]
    },
    {
      "cell_type": "code",
      "metadata": {
        "colab": {
          "base_uri": "https://localhost:8080/"
        },
        "id": "pQ7RrZqRNkoa",
        "outputId": "67722b7e-a179-4820-de9a-f5bac7233043"
      },
      "source": [
        "#--measure time to run code\n",
        "start_time = time.time()\n",
        "\n",
        "#-- create initial w0=0,b0=0\n",
        "m,n=X_train_colon.shape\n",
        "np.random.seed(3)\n",
        "w0=np.random.rand(n,1)\n",
        "b0=np.random.rand(1)\n",
        "#--train--\n",
        "task_colon=SVM(X_train_colon,y_train_colon)\n",
        "w,b,lst_cost,it=task_colon.solver(key=3,w0=w0,b0=b0,learning_rate=0.000005,max_time=1000000,Reg=1)\n",
        "print('w:',w)\n",
        "print('b:',b)\n",
        "\n",
        "#--measure time to run code\n",
        "end_time = time.time()\n",
        "elapsed_time = end_time - start_time\n",
        "time_run_colon['sub_R']=elapsed_time\n",
        "print('Running time:',time_run_colon['sub_R'])\n",
        "\n",
        "#- save w,b\n",
        "result_colon['sub_R']=(w,b)\n",
        "\n",
        "#--predict\n",
        "y_predict_colon=task_colon.predict(X_test_colon)\n",
        "\n",
        "#--accuracy\n",
        "print('accuracy:{:.2f} %'.format(accuracy_score(y_predict_colon.reshape(-1,),y_test_colon.reshape(-1,))*100))\n",
        "\n",
        "\n"
      ],
      "execution_count": null,
      "outputs": [
        {
          "output_type": "stream",
          "name": "stdout",
          "text": [
            "solved by unconstranted problem with Reg=l1-lorm\n",
            "iter 1 cost: 50668.352056\n",
            "iter 1001 cost: 337.322476\n",
            "iter 2001 cost: 333.965058\n",
            "iter 3001 cost: 330.641048\n",
            "iter 4001 cost: 327.350112\n",
            "iter 5001 cost: 324.091921\n",
            "iter 6001 cost: 320.866150\n",
            "iter 7001 cost: 317.676925\n",
            "iter 8001 cost: 314.514984\n",
            "iter 9001 cost: 311.384505\n",
            "iter 10001 cost: 308.285174\n",
            "iter 11001 cost: 305.216683\n",
            "iter 12001 cost: 302.178724\n",
            "iter 13001 cost: 299.170993\n",
            "iter 14001 cost: 296.193189\n",
            "iter 15001 cost: 293.245015\n",
            "iter 16001 cost: 290.326176\n",
            "iter 17001 cost: 287.436380\n",
            "iter 18001 cost: 284.575339\n",
            "iter 19001 cost: 281.742765\n",
            "iter 20001 cost: 278.938375\n",
            "iter 21001 cost: 276.161891\n",
            "iter 22001 cost: 273.413032\n",
            "iter 23001 cost: 270.691526\n",
            "iter 24001 cost: 268.005994\n",
            "iter 25001 cost: 265.338288\n",
            "iter 26001 cost: 262.697127\n",
            "iter 27001 cost: 260.082246\n",
            "iter 28001 cost: 257.493383\n",
            "iter 29001 cost: 254.930280\n",
            "iter 30001 cost: 252.392681\n",
            "iter 31001 cost: 249.880331\n",
            "iter 32001 cost: 247.392979\n",
            "iter 33001 cost: 244.930377\n",
            "iter 34001 cost: 242.492279\n",
            "iter 35001 cost: 240.078440\n",
            "iter 36001 cost: 237.688619\n",
            "iter 37001 cost: 235.322577\n",
            "iter 38001 cost: 232.980078\n",
            "iter 39001 cost: 230.660887\n",
            "iter 40001 cost: 228.364773\n",
            "iter 41001 cost: 226.091506\n",
            "iter 42001 cost: 223.840858\n",
            "iter 43001 cost: 221.612605\n",
            "iter 44001 cost: 219.406524\n",
            "iter 45001 cost: 217.222394\n",
            "iter 46001 cost: 215.059996\n",
            "iter 47001 cost: 212.919114\n",
            "iter 48001 cost: 210.799535\n",
            "iter 49001 cost: 208.704827\n",
            "iter 50001 cost: 206.627180\n",
            "iter 51001 cost: 204.570205\n",
            "iter 52001 cost: 202.533698\n",
            "iter 53001 cost: 200.517454\n",
            "iter 54001 cost: 198.521273\n",
            "iter 55001 cost: 196.544953\n",
            "iter 56001 cost: 194.588299\n",
            "iter 57001 cost: 192.651114\n",
            "iter 58001 cost: 190.733205\n",
            "iter 59001 cost: 188.834379\n",
            "iter 60001 cost: 186.954447\n",
            "iter 61001 cost: 185.093220\n",
            "iter 62001 cost: 183.269253\n",
            "iter 63001 cost: 181.444694\n",
            "iter 64001 cost: 179.638290\n",
            "iter 65001 cost: 177.849860\n",
            "iter 66001 cost: 176.079225\n",
            "iter 67001 cost: 174.326209\n",
            "iter 68001 cost: 172.590635\n",
            "iter 69001 cost: 170.872332\n",
            "iter 70001 cost: 169.171125\n",
            "iter 71001 cost: 167.486846\n",
            "iter 72001 cost: 165.819327\n",
            "iter 73001 cost: 164.168399\n",
            "iter 74001 cost: 162.533899\n",
            "iter 75001 cost: 160.915662\n",
            "iter 76001 cost: 159.313527\n",
            "iter 77001 cost: 157.727333\n",
            "iter 78001 cost: 156.156923\n",
            "iter 79001 cost: 154.602138\n",
            "iter 80001 cost: 153.062824\n",
            "iter 81001 cost: 151.538826\n",
            "iter 82001 cost: 150.029992\n",
            "iter 83001 cost: 148.536171\n",
            "iter 84001 cost: 147.057215\n",
            "iter 85001 cost: 145.592974\n",
            "iter 86001 cost: 144.143302\n",
            "iter 87001 cost: 142.708055\n",
            "iter 88001 cost: 141.287089\n",
            "iter 89001 cost: 139.880263\n",
            "iter 90001 cost: 138.487434\n",
            "iter 91001 cost: 137.108465\n",
            "iter 92001 cost: 135.743217\n",
            "iter 93001 cost: 134.391554\n",
            "iter 94001 cost: 133.053341\n",
            "iter 95001 cost: 131.728442\n",
            "iter 96001 cost: 130.416727\n",
            "iter 97001 cost: 129.118064\n",
            "iter 98001 cost: 127.832322\n",
            "iter 99001 cost: 126.559375\n",
            "iter 100001 cost: 125.299094\n",
            "iter 101001 cost: 124.051353\n",
            "iter 102001 cost: 122.824059\n",
            "iter 103001 cost: 121.600942\n",
            "iter 104001 cost: 120.390957\n",
            "iter 105001 cost: 119.192049\n",
            "iter 106001 cost: 118.005072\n",
            "iter 107001 cost: 116.829905\n",
            "iter 108001 cost: 115.666431\n",
            "iter 109001 cost: 114.514536\n",
            "iter 110001 cost: 113.374102\n",
            "iter 111001 cost: 112.245015\n",
            "iter 112001 cost: 111.127165\n",
            "iter 113001 cost: 110.020437\n",
            "iter 114001 cost: 108.924722\n",
            "iter 115001 cost: 107.839910\n",
            "iter 116001 cost: 106.765892\n",
            "iter 117001 cost: 105.702561\n",
            "iter 118001 cost: 104.649810\n",
            "iter 119001 cost: 103.607534\n",
            "iter 120001 cost: 102.575630\n",
            "iter 121001 cost: 101.561310\n",
            "iter 122001 cost: 100.549761\n",
            "iter 123001 cost: 99.548278\n",
            "iter 124001 cost: 98.556760\n",
            "iter 125001 cost: 97.575109\n",
            "iter 126001 cost: 96.603225\n",
            "iter 127001 cost: 95.641013\n",
            "iter 128001 cost: 94.688375\n",
            "iter 129001 cost: 93.746116\n",
            "iter 130001 cost: 92.812329\n",
            "iter 131001 cost: 91.887834\n",
            "iter 132001 cost: 90.972538\n",
            "iter 133001 cost: 90.066350\n",
            "iter 134001 cost: 89.169179\n",
            "iter 135001 cost: 88.280935\n",
            "iter 136001 cost: 87.401530\n",
            "iter 137001 cost: 86.530875\n",
            "iter 138001 cost: 85.669886\n",
            "iter 139001 cost: 84.816460\n",
            "iter 140001 cost: 83.978404\n",
            "iter 141001 cost: 83.142876\n",
            "iter 142001 cost: 82.314594\n",
            "iter 143001 cost: 81.494553\n",
            "iter 144001 cost: 80.682672\n",
            "iter 145001 cost: 79.878870\n",
            "iter 146001 cost: 79.083065\n",
            "iter 147001 cost: 78.295179\n",
            "iter 148001 cost: 77.515133\n",
            "iter 149001 cost: 76.742848\n",
            "iter 150001 cost: 75.978249\n",
            "iter 151001 cost: 75.223414\n",
            "iter 152001 cost: 74.473933\n",
            "iter 153001 cost: 73.731909\n",
            "iter 154001 cost: 72.999166\n",
            "iter 155001 cost: 72.271816\n",
            "iter 156001 cost: 71.551705\n",
            "iter 157001 cost: 70.838760\n",
            "iter 158001 cost: 70.132910\n",
            "iter 159001 cost: 69.434083\n",
            "iter 160001 cost: 68.744704\n",
            "iter 161001 cost: 68.059686\n",
            "iter 162001 cost: 67.381485\n",
            "iter 163001 cost: 66.710033\n",
            "iter 164001 cost: 66.045263\n",
            "iter 165001 cost: 65.387108\n",
            "iter 166001 cost: 64.735503\n",
            "iter 167001 cost: 64.090381\n",
            "iter 168001 cost: 63.451680\n",
            "iter 169001 cost: 62.819336\n",
            "iter 170001 cost: 62.193284\n",
            "iter 171001 cost: 61.573462\n",
            "iter 172001 cost: 60.959807\n",
            "iter 173001 cost: 60.352259\n",
            "iter 174001 cost: 59.750756\n",
            "iter 175001 cost: 59.155238\n",
            "iter 176001 cost: 58.565647\n",
            "iter 177001 cost: 57.981922\n",
            "iter 178001 cost: 57.404007\n",
            "iter 179001 cost: 56.843349\n",
            "iter 180001 cost: 56.276754\n",
            "iter 181001 cost: 55.715796\n",
            "iter 182001 cost: 55.160420\n",
            "iter 183001 cost: 54.610570\n",
            "iter 184001 cost: 54.066194\n",
            "iter 185001 cost: 53.527234\n",
            "iter 186001 cost: 52.993638\n",
            "iter 187001 cost: 52.465351\n",
            "iter 188001 cost: 51.942321\n",
            "iter 189001 cost: 51.424495\n",
            "iter 190001 cost: 50.911823\n",
            "iter 191001 cost: 50.404254\n",
            "iter 192001 cost: 49.901736\n",
            "iter 193001 cost: 49.404218\n",
            "iter 194001 cost: 48.911651\n",
            "iter 195001 cost: 48.423986\n",
            "iter 196001 cost: 47.941174\n",
            "iter 197001 cost: 47.463166\n",
            "iter 198001 cost: 46.989914\n",
            "iter 199001 cost: 46.523507\n",
            "iter 200001 cost: 46.059594\n",
            "iter 201001 cost: 45.600299\n",
            "iter 202001 cost: 45.145575\n",
            "iter 203001 cost: 44.695376\n",
            "iter 204001 cost: 44.249659\n",
            "iter 205001 cost: 43.808379\n",
            "iter 206001 cost: 43.371490\n",
            "iter 207001 cost: 42.938949\n",
            "iter 208001 cost: 42.516006\n",
            "iter 209001 cost: 42.091970\n",
            "iter 210001 cost: 41.672153\n",
            "iter 211001 cost: 41.256514\n",
            "iter 212001 cost: 40.860700\n",
            "iter 213001 cost: 40.453135\n",
            "iter 214001 cost: 40.049625\n",
            "iter 215001 cost: 39.650131\n",
            "iter 216001 cost: 39.254613\n",
            "iter 217001 cost: 38.863950\n",
            "iter 218001 cost: 38.476252\n",
            "iter 219001 cost: 38.092413\n",
            "iter 220001 cost: 37.712395\n",
            "iter 221001 cost: 37.336159\n",
            "iter 222001 cost: 36.963667\n",
            "iter 223001 cost: 36.594882\n",
            "iter 224001 cost: 36.229767\n",
            "iter 225001 cost: 35.868285\n",
            "iter 226001 cost: 35.510401\n",
            "iter 227001 cost: 35.156078\n",
            "iter 228001 cost: 34.805281\n",
            "iter 229001 cost: 34.457975\n",
            "iter 230001 cost: 34.114124\n",
            "iter 231001 cost: 33.773697\n",
            "iter 232001 cost: 33.436657\n",
            "iter 233001 cost: 33.102973\n",
            "iter 234001 cost: 32.772608\n",
            "iter 235001 cost: 32.445532\n",
            "iter 236001 cost: 32.121712\n",
            "iter 237001 cost: 31.801114\n",
            "iter 238001 cost: 31.483707\n",
            "iter 239001 cost: 31.169459\n",
            "iter 240001 cost: 30.858337\n",
            "iter 241001 cost: 30.550312\n",
            "iter 242001 cost: 30.245352\n",
            "iter 243001 cost: 29.943426\n",
            "iter 244001 cost: 29.644505\n",
            "iter 245001 cost: 29.348558\n",
            "iter 246001 cost: 29.055557\n",
            "iter 247001 cost: 28.772637\n",
            "iter 248001 cost: 28.485351\n",
            "iter 249001 cost: 28.200925\n",
            "iter 250001 cost: 27.919329\n",
            "iter 251001 cost: 27.640535\n",
            "iter 252001 cost: 27.364517\n",
            "iter 253001 cost: 27.091247\n",
            "iter 254001 cost: 26.820698\n",
            "iter 255001 cost: 26.552841\n",
            "iter 256001 cost: 26.287650\n",
            "iter 257001 cost: 26.031568\n",
            "iter 258001 cost: 25.771554\n",
            "iter 259001 cost: 25.514128\n",
            "iter 260001 cost: 25.259265\n",
            "iter 261001 cost: 25.006938\n",
            "iter 262001 cost: 24.757123\n",
            "iter 263001 cost: 24.509795\n",
            "iter 264001 cost: 24.264929\n",
            "iter 265001 cost: 24.022500\n",
            "iter 266001 cost: 23.782485\n",
            "iter 267001 cost: 23.554244\n",
            "iter 268001 cost: 23.318880\n",
            "iter 269001 cost: 23.085860\n",
            "iter 270001 cost: 22.855159\n",
            "iter 271001 cost: 22.626755\n",
            "iter 272001 cost: 22.400624\n",
            "iter 273001 cost: 22.176744\n",
            "iter 274001 cost: 21.955094\n",
            "iter 275001 cost: 21.737529\n",
            "iter 276001 cost: 21.522237\n",
            "iter 277001 cost: 21.307093\n",
            "iter 278001 cost: 21.094090\n",
            "iter 279001 cost: 20.883209\n",
            "iter 280001 cost: 20.674428\n",
            "iter 281001 cost: 20.467727\n",
            "iter 282001 cost: 20.263084\n",
            "iter 283001 cost: 20.060477\n",
            "iter 284001 cost: 19.859888\n",
            "iter 285001 cost: 19.661295\n",
            "iter 286001 cost: 19.464679\n",
            "iter 287001 cost: 19.270020\n",
            "iter 288001 cost: 19.077299\n",
            "iter 289001 cost: 18.886496\n",
            "iter 290001 cost: 18.697594\n",
            "iter 291001 cost: 18.510573\n",
            "iter 292001 cost: 18.325414\n",
            "iter 293001 cost: 18.142099\n",
            "iter 294001 cost: 17.960608\n",
            "iter 295001 cost: 17.780925\n",
            "iter 296001 cost: 17.603031\n",
            "iter 297001 cost: 17.426907\n",
            "iter 298001 cost: 17.252537\n",
            "iter 299001 cost: 17.079903\n",
            "iter 300001 cost: 16.928079\n",
            "iter 301001 cost: 16.758647\n",
            "iter 302001 cost: 16.590902\n",
            "iter 303001 cost: 16.424828\n",
            "iter 304001 cost: 16.260407\n",
            "iter 305001 cost: 16.097622\n",
            "iter 306001 cost: 15.936459\n",
            "iter 307001 cost: 15.776902\n",
            "iter 308001 cost: 15.618935\n",
            "iter 309001 cost: 15.462541\n",
            "iter 310001 cost: 15.307704\n",
            "iter 311001 cost: 15.154409\n",
            "iter 312001 cost: 15.002640\n",
            "iter 313001 cost: 14.852383\n",
            "iter 314001 cost: 14.703623\n",
            "iter 315001 cost: 14.556343\n",
            "iter 316001 cost: 14.410530\n",
            "iter 317001 cost: 14.266167\n",
            "iter 318001 cost: 14.123243\n",
            "iter 319001 cost: 13.981744\n",
            "iter 320001 cost: 13.841654\n",
            "iter 321001 cost: 13.702959\n",
            "iter 322001 cost: 13.565644\n",
            "iter 323001 cost: 13.429696\n",
            "iter 324001 cost: 13.295100\n",
            "iter 325001 cost: 13.162890\n",
            "iter 326001 cost: 13.030928\n",
            "iter 327001 cost: 12.900282\n",
            "iter 328001 cost: 12.782931\n",
            "iter 329001 cost: 12.654744\n",
            "iter 330001 cost: 12.527833\n",
            "iter 331001 cost: 12.402186\n",
            "iter 332001 cost: 12.277790\n",
            "iter 333001 cost: 12.154633\n",
            "iter 334001 cost: 12.032704\n",
            "iter 335001 cost: 11.911989\n",
            "iter 336001 cost: 11.792477\n",
            "iter 337001 cost: 11.674155\n",
            "iter 338001 cost: 11.557012\n",
            "iter 339001 cost: 11.441036\n",
            "iter 340001 cost: 11.326215\n",
            "iter 341001 cost: 11.212538\n",
            "iter 342001 cost: 11.099994\n",
            "iter 343001 cost: 10.988571\n",
            "iter 344001 cost: 10.878258\n",
            "iter 345001 cost: 10.769044\n",
            "iter 346001 cost: 10.660920\n",
            "iter 347001 cost: 10.553875\n",
            "iter 348001 cost: 10.447898\n",
            "iter 349001 cost: 10.342975\n",
            "iter 350001 cost: 10.239097\n",
            "iter 351001 cost: 10.136254\n",
            "iter 352001 cost: 10.034434\n",
            "iter 353001 cost: 9.933629\n",
            "iter 354001 cost: 9.833827\n",
            "iter 355001 cost: 9.735019\n",
            "iter 356001 cost: 9.651982\n",
            "iter 357001 cost: 9.556221\n",
            "iter 358001 cost: 9.460142\n",
            "iter 359001 cost: 9.366167\n",
            "iter 360001 cost: 9.271978\n",
            "iter 361001 cost: 9.178729\n",
            "iter 362001 cost: 9.086409\n",
            "iter 363001 cost: 8.995009\n",
            "iter 364001 cost: 8.904521\n",
            "iter 365001 cost: 8.814936\n",
            "iter 366001 cost: 8.726243\n",
            "iter 367001 cost: 8.638436\n",
            "iter 368001 cost: 8.551506\n",
            "iter 369001 cost: 8.465444\n",
            "iter 370001 cost: 8.380240\n",
            "iter 371001 cost: 8.295886\n",
            "iter 372001 cost: 8.212372\n",
            "iter 373001 cost: 8.142406\n",
            "iter 374001 cost: 8.060394\n",
            "iter 375001 cost: 7.979201\n",
            "iter 376001 cost: 7.898818\n",
            "iter 377001 cost: 7.819236\n",
            "iter 378001 cost: 7.740447\n",
            "iter 379001 cost: 7.662446\n",
            "iter 380001 cost: 7.585223\n",
            "iter 381001 cost: 7.508772\n",
            "iter 382001 cost: 7.433084\n",
            "iter 383001 cost: 7.358150\n",
            "iter 384001 cost: 7.283962\n",
            "iter 385001 cost: 7.210514\n",
            "iter 386001 cost: 7.137798\n",
            "iter 387001 cost: 7.065807\n",
            "iter 388001 cost: 6.999879\n",
            "iter 389001 cost: 6.933690\n",
            "iter 390001 cost: 6.867119\n",
            "iter 391001 cost: 6.798910\n",
            "iter 392001 cost: 6.730266\n",
            "iter 393001 cost: 6.662307\n",
            "iter 394001 cost: 6.595026\n",
            "iter 395001 cost: 6.528417\n",
            "iter 396001 cost: 6.462472\n",
            "iter 397001 cost: 6.397184\n",
            "iter 398001 cost: 6.332546\n",
            "iter 399001 cost: 6.268554\n",
            "iter 400001 cost: 6.205201\n",
            "iter 401001 cost: 6.142479\n",
            "iter 402001 cost: 6.080384\n",
            "iter 403001 cost: 6.018909\n",
            "iter 404001 cost: 5.958049\n",
            "iter 405001 cost: 5.897796\n",
            "iter 406001 cost: 5.838146\n",
            "iter 407001 cost: 5.779092\n",
            "iter 408001 cost: 5.720628\n",
            "iter 409001 cost: 5.662748\n",
            "iter 410001 cost: 5.605447\n",
            "iter 411001 cost: 5.584148\n",
            "iter 412001 cost: 5.527590\n",
            "iter 413001 cost: 5.471598\n",
            "iter 414001 cost: 5.416165\n",
            "iter 415001 cost: 5.361286\n",
            "iter 416001 cost: 5.306954\n",
            "iter 417001 cost: 5.253165\n",
            "iter 418001 cost: 5.199914\n",
            "iter 419001 cost: 5.147194\n",
            "iter 420001 cost: 5.094999\n",
            "iter 421001 cost: 5.043326\n",
            "iter 422001 cost: 4.992167\n",
            "iter 423001 cost: 4.941518\n",
            "iter 424001 cost: 4.891376\n",
            "iter 425001 cost: 4.841736\n",
            "iter 426001 cost: 4.792591\n",
            "iter 427001 cost: 4.743937\n",
            "iter 428001 cost: 4.695767\n",
            "iter 429001 cost: 4.648078\n",
            "iter 430001 cost: 4.600865\n",
            "iter 431001 cost: 4.575625\n",
            "iter 432001 cost: 4.529105\n",
            "iter 433001 cost: 4.483049\n",
            "iter 434001 cost: 4.437451\n",
            "iter 435001 cost: 4.392309\n",
            "iter 436001 cost: 4.347619\n",
            "iter 437001 cost: 4.303374\n",
            "iter 438001 cost: 4.259571\n",
            "iter 439001 cost: 4.216205\n",
            "iter 440001 cost: 4.173273\n",
            "iter 441001 cost: 4.130770\n",
            "iter 442001 cost: 4.088691\n",
            "iter 443001 cost: 4.047034\n",
            "iter 444001 cost: 4.005792\n",
            "iter 445001 cost: 3.964963\n",
            "iter 446001 cost: 3.924543\n",
            "iter 447001 cost: 3.884528\n",
            "iter 448001 cost: 3.844913\n",
            "iter 449001 cost: 3.805696\n",
            "iter 450001 cost: 3.766871\n",
            "iter 451001 cost: 3.728434\n",
            "iter 452001 cost: 3.690379\n",
            "iter 453001 cost: 3.652704\n",
            "iter 454001 cost: 3.616721\n",
            "iter 455001 cost: 3.579742\n",
            "iter 456001 cost: 3.543135\n",
            "iter 457001 cost: 3.506899\n",
            "iter 458001 cost: 3.471029\n",
            "iter 459001 cost: 3.463787\n",
            "iter 460001 cost: 3.428328\n",
            "iter 461001 cost: 3.393224\n",
            "iter 462001 cost: 3.358473\n",
            "iter 463001 cost: 3.324071\n",
            "iter 464001 cost: 3.290013\n",
            "iter 465001 cost: 3.256296\n",
            "iter 466001 cost: 3.222916\n",
            "iter 467001 cost: 3.189871\n",
            "iter 468001 cost: 3.157157\n",
            "iter 469001 cost: 3.124771\n",
            "iter 470001 cost: 3.092708\n",
            "iter 471001 cost: 3.060967\n",
            "iter 472001 cost: 3.029544\n",
            "iter 473001 cost: 2.998436\n",
            "iter 474001 cost: 2.967642\n",
            "iter 475001 cost: 2.937157\n",
            "iter 476001 cost: 2.930359\n",
            "iter 477001 cost: 2.900208\n",
            "iter 478001 cost: 2.870360\n",
            "iter 479001 cost: 2.840809\n",
            "iter 480001 cost: 2.811557\n",
            "iter 481001 cost: 2.782599\n",
            "iter 482001 cost: 2.753933\n",
            "iter 483001 cost: 2.725556\n",
            "iter 484001 cost: 2.697465\n",
            "iter 485001 cost: 2.669656\n",
            "iter 486001 cost: 2.642126\n",
            "iter 487001 cost: 2.614873\n",
            "iter 488001 cost: 2.587893\n",
            "iter 489001 cost: 2.561183\n",
            "iter 490001 cost: 2.534743\n",
            "iter 491001 cost: 2.508570\n",
            "iter 492001 cost: 2.482660\n",
            "iter 493001 cost: 2.457008\n",
            "iter 494001 cost: 2.431615\n",
            "iter 495001 cost: 2.406477\n",
            "iter 496001 cost: 2.396809\n",
            "iter 497001 cost: 2.371967\n",
            "iter 498001 cost: 2.347375\n",
            "iter 499001 cost: 2.323030\n",
            "iter 500001 cost: 2.298932\n",
            "iter 501001 cost: 2.275077\n",
            "iter 502001 cost: 2.251461\n",
            "iter 503001 cost: 2.229492\n",
            "iter 504001 cost: 2.206318\n",
            "iter 505001 cost: 2.183379\n",
            "iter 506001 cost: 2.160674\n",
            "iter 507001 cost: 2.138200\n",
            "iter 508001 cost: 2.115957\n",
            "iter 509001 cost: 2.093938\n",
            "iter 510001 cost: 2.072145\n",
            "iter 511001 cost: 2.050573\n",
            "iter 512001 cost: 2.029217\n",
            "iter 513001 cost: 2.036126\n",
            "iter 514001 cost: 2.014873\n",
            "iter 515001 cost: 1.993834\n",
            "iter 516001 cost: 1.973008\n",
            "iter 517001 cost: 1.952391\n",
            "iter 518001 cost: 1.931983\n",
            "iter 519001 cost: 1.911783\n",
            "iter 520001 cost: 1.891786\n",
            "iter 521001 cost: 1.871991\n",
            "iter 522001 cost: 1.852395\n",
            "iter 523001 cost: 1.832998\n",
            "iter 524001 cost: 1.813796\n",
            "iter 525001 cost: 1.794788\n",
            "iter 526001 cost: 1.775971\n",
            "iter 527001 cost: 1.757345\n",
            "iter 528001 cost: 1.738909\n",
            "iter 529001 cost: 1.720659\n",
            "iter 530001 cost: 1.707819\n",
            "iter 531001 cost: 1.689838\n",
            "iter 532001 cost: 1.672039\n",
            "iter 533001 cost: 1.654421\n",
            "iter 534001 cost: 1.653899\n",
            "iter 535001 cost: 1.636450\n",
            "iter 536001 cost: 1.619179\n",
            "iter 537001 cost: 1.602084\n",
            "iter 538001 cost: 1.585162\n",
            "iter 539001 cost: 1.568413\n",
            "iter 540001 cost: 1.551834\n",
            "iter 541001 cost: 1.535424\n",
            "iter 542001 cost: 1.519182\n",
            "iter 543001 cost: 1.503103\n",
            "iter 544001 cost: 1.487186\n",
            "iter 545001 cost: 1.474204\n",
            "iter 546001 cost: 1.458549\n",
            "iter 547001 cost: 1.443057\n",
            "iter 548001 cost: 1.427727\n",
            "iter 549001 cost: 1.412555\n",
            "iter 550001 cost: 1.397540\n",
            "iter 551001 cost: 1.382683\n",
            "iter 552001 cost: 1.367979\n",
            "iter 553001 cost: 1.353429\n",
            "iter 554001 cost: 1.339030\n",
            "iter 555001 cost: 1.324778\n",
            "iter 556001 cost: 1.310671\n",
            "iter 557001 cost: 1.356989\n",
            "iter 558001 cost: 1.342493\n",
            "iter 559001 cost: 1.328144\n",
            "iter 560001 cost: 1.313942\n",
            "iter 561001 cost: 1.299888\n",
            "iter 562001 cost: 1.285976\n",
            "iter 563001 cost: 1.272207\n",
            "iter 564001 cost: 1.258577\n",
            "iter 565001 cost: 1.245085\n",
            "iter 566001 cost: 1.231730\n",
            "iter 567001 cost: 1.218511\n",
            "iter 568001 cost: 1.205425\n",
            "iter 569001 cost: 1.192473\n",
            "iter 570001 cost: 1.179652\n",
            "iter 571001 cost: 1.169860\n",
            "iter 572001 cost: 1.157232\n",
            "iter 573001 cost: 1.144737\n",
            "iter 574001 cost: 1.132373\n",
            "iter 575001 cost: 1.120135\n",
            "iter 576001 cost: 1.108025\n",
            "iter 577001 cost: 1.096039\n",
            "iter 578001 cost: 1.084178\n",
            "iter 579001 cost: 1.072441\n",
            "iter 580001 cost: 1.060827\n",
            "iter 581001 cost: 1.049334\n",
            "iter 582001 cost: 1.037961\n",
            "iter 583001 cost: 1.026708\n",
            "iter 584001 cost: 1.015573\n",
            "iter 585001 cost: 1.004553\n",
            "iter 586001 cost: 0.993647\n",
            "iter 587001 cost: 0.982853\n",
            "iter 588001 cost: 0.999642\n",
            "iter 589001 cost: 0.988707\n",
            "iter 590001 cost: 0.977883\n",
            "iter 591001 cost: 0.967171\n",
            "iter 592001 cost: 0.956574\n",
            "iter 593001 cost: 0.946086\n",
            "iter 594001 cost: 0.942537\n",
            "iter 595001 cost: 0.932170\n",
            "iter 596001 cost: 0.921915\n",
            "iter 597001 cost: 0.911770\n",
            "iter 598001 cost: 0.901730\n",
            "iter 599001 cost: 0.893299\n",
            "iter 600001 cost: 0.883427\n",
            "iter 601001 cost: 0.873661\n",
            "iter 602001 cost: 0.863998\n",
            "iter 603001 cost: 0.854438\n",
            "iter 604001 cost: 0.844980\n",
            "iter 605001 cost: 0.835624\n",
            "iter 606001 cost: 0.826370\n",
            "iter 607001 cost: 0.817214\n",
            "iter 608001 cost: 0.808155\n",
            "iter 609001 cost: 0.799191\n",
            "iter 610001 cost: 0.790321\n",
            "iter 611001 cost: 0.781545\n",
            "iter 612001 cost: 0.772863\n",
            "iter 613001 cost: 0.764273\n",
            "iter 614001 cost: 0.755773\n",
            "iter 615001 cost: 0.747363\n",
            "iter 616001 cost: 0.739042\n",
            "iter 617001 cost: 0.730810\n",
            "iter 618001 cost: 0.722667\n",
            "iter 619001 cost: 0.719413\n",
            "iter 620001 cost: 0.712647\n",
            "iter 621001 cost: 0.704576\n",
            "iter 622001 cost: 0.696600\n",
            "iter 623001 cost: 0.688714\n",
            "iter 624001 cost: 0.680919\n",
            "iter 625001 cost: 0.673212\n",
            "iter 626001 cost: 0.665590\n",
            "iter 627001 cost: 0.658052\n",
            "iter 628001 cost: 0.650599\n",
            "iter 629001 cost: 0.643229\n",
            "iter 630001 cost: 0.686195\n",
            "iter 631001 cost: 0.678376\n",
            "iter 632001 cost: 0.672217\n",
            "iter 633001 cost: 0.664537\n",
            "iter 634001 cost: 0.658626\n",
            "iter 635001 cost: 0.651084\n",
            "iter 636001 cost: 0.643623\n",
            "iter 637001 cost: 0.636241\n",
            "iter 638001 cost: 0.642353\n",
            "iter 639001 cost: 0.634974\n",
            "iter 640001 cost: 0.627675\n",
            "iter 641001 cost: 0.620454\n",
            "iter 642001 cost: 0.613309\n",
            "iter 643001 cost: 0.606238\n",
            "iter 644001 cost: 0.599244\n",
            "iter 645001 cost: 0.592324\n",
            "iter 646001 cost: 0.585484\n",
            "iter 647001 cost: 0.578719\n",
            "iter 648001 cost: 0.572026\n",
            "iter 649001 cost: 0.565404\n",
            "iter 650001 cost: 0.558852\n",
            "iter 651001 cost: 0.556228\n",
            "iter 652001 cost: 0.549704\n",
            "iter 653001 cost: 0.543255\n",
            "iter 654001 cost: 0.536883\n",
            "iter 655001 cost: 0.530586\n",
            "iter 656001 cost: 0.525899\n",
            "iter 657001 cost: 0.538664\n",
            "iter 658001 cost: 0.532321\n",
            "iter 659001 cost: 0.526053\n",
            "iter 660001 cost: 0.519856\n",
            "iter 661001 cost: 0.517811\n",
            "iter 662001 cost: 0.511671\n",
            "iter 663001 cost: 0.505601\n",
            "iter 664001 cost: 0.499602\n",
            "iter 665001 cost: 0.493670\n",
            "iter 666001 cost: 0.487807\n",
            "iter 667001 cost: 0.482010\n",
            "iter 668001 cost: 0.476283\n",
            "iter 669001 cost: 0.470626\n",
            "iter 670001 cost: 0.468805\n",
            "iter 671001 cost: 0.463165\n",
            "iter 672001 cost: 0.457595\n",
            "iter 673001 cost: 0.452091\n",
            "iter 674001 cost: 0.446652\n",
            "iter 675001 cost: 0.441280\n",
            "iter 676001 cost: 0.435973\n",
            "iter 677001 cost: 0.430724\n",
            "iter 678001 cost: 0.425535\n",
            "iter 679001 cost: 0.420408\n",
            "iter 680001 cost: 0.415345\n",
            "iter 681001 cost: 0.410343\n",
            "iter 682001 cost: 0.405399\n",
            "iter 683001 cost: 0.459225\n",
            "iter 684001 cost: 0.453666\n",
            "iter 685001 cost: 0.448170\n",
            "iter 686001 cost: 0.442734\n",
            "iter 687001 cost: 0.437357\n",
            "iter 688001 cost: 0.432038\n",
            "iter 689001 cost: 0.436871\n",
            "iter 690001 cost: 0.431537\n",
            "iter 691001 cost: 0.426264\n",
            "iter 692001 cost: 0.421052\n",
            "iter 693001 cost: 0.415900\n",
            "iter 694001 cost: 0.410806\n",
            "iter 695001 cost: 0.405769\n",
            "iter 696001 cost: 0.400793\n",
            "iter 697001 cost: 0.395876\n",
            "iter 698001 cost: 0.391015\n",
            "iter 699001 cost: 0.386208\n",
            "iter 700001 cost: 0.381457\n",
            "iter 701001 cost: 0.376761\n",
            "iter 702001 cost: 0.372120\n",
            "iter 703001 cost: 0.367531\n",
            "iter 704001 cost: 0.362992\n",
            "iter 705001 cost: 0.358505\n",
            "iter 706001 cost: 0.389790\n",
            "iter 707001 cost: 0.384923\n",
            "iter 708001 cost: 0.381780\n",
            "iter 709001 cost: 0.376995\n",
            "iter 710001 cost: 0.374513\n",
            "iter 711001 cost: 0.369795\n",
            "iter 712001 cost: 0.365131\n",
            "iter 713001 cost: 0.360528\n",
            "iter 714001 cost: 0.355983\n",
            "iter 715001 cost: 0.351493\n",
            "iter 716001 cost: 0.347058\n",
            "iter 717001 cost: 0.342679\n",
            "iter 718001 cost: 0.338353\n",
            "iter 719001 cost: 0.334079\n",
            "iter 720001 cost: 0.329857\n",
            "iter 721001 cost: 0.325686\n",
            "iter 722001 cost: 0.321563\n",
            "iter 723001 cost: 0.317490\n",
            "iter 724001 cost: 0.313467\n",
            "iter 725001 cost: 0.309495\n",
            "iter 726001 cost: 0.345040\n",
            "iter 727001 cost: 0.340617\n",
            "iter 728001 cost: 0.336252\n",
            "iter 729001 cost: 0.331937\n",
            "iter 730001 cost: 0.329425\n",
            "iter 731001 cost: 0.325163\n",
            "iter 732001 cost: 0.320951\n",
            "iter 733001 cost: 0.316794\n",
            "iter 734001 cost: 0.312692\n",
            "iter 735001 cost: 0.308642\n",
            "iter 736001 cost: 0.304645\n",
            "iter 737001 cost: 0.300699\n",
            "iter 738001 cost: 0.299148\n",
            "iter 739001 cost: 0.295199\n",
            "iter 740001 cost: 0.291310\n",
            "iter 741001 cost: 0.287476\n",
            "iter 742001 cost: 0.283693\n",
            "iter 743001 cost: 0.279962\n",
            "iter 744001 cost: 0.276282\n",
            "iter 745001 cost: 0.272655\n",
            "iter 746001 cost: 0.299167\n",
            "iter 747001 cost: 0.295208\n",
            "iter 748001 cost: 0.291298\n",
            "iter 749001 cost: 0.287436\n",
            "iter 750001 cost: 0.283623\n",
            "iter 751001 cost: 0.279860\n",
            "iter 752001 cost: 0.276145\n",
            "iter 753001 cost: 0.272479\n",
            "iter 754001 cost: 0.268860\n",
            "iter 755001 cost: 0.265286\n",
            "iter 756001 cost: 0.261760\n",
            "iter 757001 cost: 0.258282\n",
            "iter 758001 cost: 0.254849\n",
            "iter 759001 cost: 0.251458\n",
            "iter 760001 cost: 0.248110\n",
            "iter 761001 cost: 0.244806\n",
            "iter 762001 cost: 0.300533\n",
            "iter 763001 cost: 0.296555\n",
            "iter 764001 cost: 0.292625\n",
            "iter 765001 cost: 0.288745\n",
            "iter 766001 cost: 0.284911\n",
            "iter 767001 cost: 0.281124\n",
            "iter 768001 cost: 0.277383\n",
            "iter 769001 cost: 0.273689\n",
            "iter 770001 cost: 0.270040\n",
            "iter 771001 cost: 0.266438\n",
            "iter 772001 cost: 0.262881\n",
            "iter 773001 cost: 0.259367\n",
            "iter 774001 cost: 0.255899\n",
            "iter 775001 cost: 0.252471\n",
            "iter 776001 cost: 0.266918\n",
            "iter 777001 cost: 0.263275\n",
            "iter 778001 cost: 0.259682\n",
            "iter 779001 cost: 0.256137\n",
            "iter 780001 cost: 0.252642\n",
            "iter 781001 cost: 0.249195\n",
            "iter 782001 cost: 0.245794\n",
            "iter 783001 cost: 0.242439\n",
            "iter 784001 cost: 0.239128\n",
            "iter 785001 cost: 0.235861\n",
            "iter 786001 cost: 0.232641\n",
            "iter 787001 cost: 0.229467\n",
            "iter 788001 cost: 0.226334\n",
            "iter 789001 cost: 0.223241\n",
            "iter 790001 cost: 0.220190\n",
            "iter 791001 cost: 0.217182\n",
            "iter 792001 cost: 0.270368\n",
            "iter 793001 cost: 0.266701\n",
            "iter 794001 cost: 0.264685\n",
            "iter 795001 cost: 0.261074\n",
            "iter 796001 cost: 0.257511\n",
            "iter 797001 cost: 0.253991\n",
            "iter 798001 cost: 0.250519\n",
            "iter 799001 cost: 0.247094\n",
            "iter 800001 cost: 0.246468\n",
            "iter 801001 cost: 0.243032\n",
            "iter 802001 cost: 0.239642\n",
            "iter 803001 cost: 0.236303\n",
            "iter 804001 cost: 0.233015\n",
            "iter 805001 cost: 0.229775\n",
            "iter 806001 cost: 0.226577\n",
            "iter 807001 cost: 0.223427\n",
            "iter 808001 cost: 0.220322\n",
            "iter 809001 cost: 0.231124\n",
            "iter 810001 cost: 0.232417\n",
            "iter 811001 cost: 0.229127\n",
            "iter 812001 cost: 0.225886\n",
            "iter 813001 cost: 0.222691\n",
            "iter 814001 cost: 0.219545\n",
            "iter 815001 cost: 0.216445\n",
            "iter 816001 cost: 0.213391\n",
            "iter 817001 cost: 0.210380\n",
            "iter 818001 cost: 0.207412\n",
            "iter 819001 cost: 0.204486\n",
            "iter 820001 cost: 0.201600\n",
            "iter 821001 cost: 0.198756\n",
            "iter 822001 cost: 0.195954\n",
            "iter 823001 cost: 0.240055\n",
            "iter 824001 cost: 0.236680\n",
            "iter 825001 cost: 0.233353\n",
            "iter 826001 cost: 0.230073\n",
            "iter 827001 cost: 0.226838\n",
            "iter 828001 cost: 0.223647\n",
            "iter 829001 cost: 0.220500\n",
            "iter 830001 cost: 0.217401\n",
            "iter 831001 cost: 0.214345\n",
            "iter 832001 cost: 0.211332\n",
            "iter 833001 cost: 0.208363\n",
            "iter 834001 cost: 0.205436\n",
            "iter 835001 cost: 0.202551\n",
            "iter 836001 cost: 0.199708\n",
            "iter 837001 cost: 0.196906\n",
            "iter 838001 cost: 0.194145\n",
            "iter 839001 cost: 421.151142\n",
            "iter 840001 cost: 0.239778\n",
            "iter 841001 cost: 0.236413\n",
            "iter 842001 cost: 0.233096\n",
            "iter 843001 cost: 0.229827\n",
            "iter 844001 cost: 0.226602\n",
            "iter 845001 cost: 0.223422\n",
            "iter 846001 cost: 0.220284\n",
            "iter 847001 cost: 0.217185\n",
            "iter 848001 cost: 0.214128\n",
            "iter 849001 cost: 0.211115\n",
            "iter 850001 cost: 0.208144\n",
            "iter 851001 cost: 0.205214\n",
            "iter 852001 cost: 0.202330\n",
            "iter 853001 cost: 0.199487\n",
            "iter 854001 cost: 0.199205\n",
            "iter 855001 cost: 0.196259\n",
            "iter 856001 cost: 0.193363\n",
            "iter 857001 cost: 0.190518\n",
            "iter 858001 cost: 0.187726\n",
            "iter 859001 cost: 0.184983\n",
            "iter 860001 cost: 0.182292\n",
            "iter 861001 cost: 0.232303\n",
            "iter 862001 cost: 0.229006\n",
            "iter 863001 cost: 0.225758\n",
            "iter 864001 cost: 0.222549\n",
            "iter 865001 cost: 0.219385\n",
            "iter 866001 cost: 0.216262\n",
            "iter 867001 cost: 0.213180\n",
            "iter 868001 cost: 0.210141\n",
            "iter 869001 cost: 0.207142\n",
            "iter 870001 cost: 0.204187\n",
            "iter 871001 cost: 0.201273\n",
            "iter 872001 cost: 0.200630\n",
            "iter 873001 cost: 0.197667\n",
            "iter 874001 cost: 0.226545\n",
            "iter 875001 cost: 0.223314\n",
            "iter 876001 cost: 0.220130\n",
            "iter 877001 cost: 0.216990\n",
            "iter 878001 cost: 0.213895\n",
            "iter 879001 cost: 0.210841\n",
            "iter 880001 cost: 0.207828\n",
            "iter 881001 cost: 0.204857\n",
            "iter 882001 cost: 0.201927\n",
            "iter 883001 cost: 0.199037\n",
            "iter 884001 cost: 0.196190\n",
            "iter 885001 cost: 0.193385\n",
            "iter 886001 cost: 0.190617\n",
            "iter 887001 cost: 0.187888\n",
            "iter 888001 cost: 0.185200\n",
            "iter 889001 cost: 0.182553\n",
            "iter 890001 cost: 0.179946\n",
            "iter 891001 cost: 0.247203\n",
            "iter 892001 cost: 0.243762\n",
            "iter 893001 cost: 0.240365\n",
            "iter 894001 cost: 0.237018\n",
            "iter 895001 cost: 0.233715\n",
            "iter 896001 cost: 0.230457\n",
            "iter 897001 cost: 0.227241\n",
            "iter 898001 cost: 0.224069\n",
            "iter 899001 cost: 0.220943\n",
            "iter 900001 cost: 0.217864\n",
            "iter 901001 cost: 0.214827\n",
            "iter 902001 cost: 0.211828\n",
            "iter 903001 cost: 0.208868\n",
            "iter 904001 cost: 0.205944\n",
            "iter 905001 cost: 0.209011\n",
            "iter 906001 cost: 0.205953\n",
            "iter 907001 cost: 0.202948\n",
            "iter 908001 cost: 0.199992\n",
            "iter 909001 cost: 0.197082\n",
            "iter 910001 cost: 0.194221\n",
            "iter 911001 cost: 0.191407\n",
            "iter 912001 cost: 0.188637\n",
            "iter 913001 cost: 0.185911\n",
            "iter 914001 cost: 0.183230\n",
            "iter 915001 cost: 0.180591\n",
            "iter 916001 cost: 0.177996\n",
            "iter 917001 cost: 0.211052\n",
            "iter 918001 cost: 0.207976\n",
            "iter 919001 cost: 0.204943\n",
            "iter 920001 cost: 0.201958\n",
            "iter 921001 cost: 0.199023\n",
            "iter 922001 cost: 0.196134\n",
            "iter 923001 cost: 0.193290\n",
            "iter 924001 cost: 0.190486\n",
            "iter 925001 cost: 0.187727\n",
            "iter 926001 cost: 0.185010\n",
            "iter 927001 cost: 0.182331\n",
            "iter 928001 cost: 0.179694\n",
            "iter 929001 cost: 0.177097\n",
            "iter 930001 cost: 0.174541\n",
            "iter 931001 cost: 0.172027\n",
            "iter 932001 cost: 0.169554\n",
            "iter 933001 cost: 0.167118\n",
            "iter 934001 cost: 0.164719\n",
            "iter 935001 cost: 0.209975\n",
            "iter 936001 cost: 0.206910\n",
            "iter 937001 cost: 0.203895\n",
            "iter 938001 cost: 0.200923\n",
            "iter 939001 cost: 0.197997\n",
            "iter 940001 cost: 0.195113\n",
            "iter 941001 cost: 0.192270\n",
            "iter 942001 cost: 0.189469\n",
            "iter 943001 cost: 0.186710\n",
            "iter 944001 cost: 0.183994\n",
            "iter 945001 cost: 0.181325\n",
            "iter 946001 cost: 0.178700\n",
            "iter 947001 cost: 0.176113\n",
            "iter 948001 cost: 0.173562\n",
            "iter 949001 cost: 0.171051\n",
            "iter 950001 cost: 0.168577\n",
            "iter 951001 cost: 0.166139\n",
            "iter 952001 cost: 0.163737\n",
            "iter 953001 cost: 0.161372\n",
            "iter 954001 cost: 0.159041\n",
            "iter 955001 cost: 0.156748\n",
            "iter 956001 cost: 0.157758\n",
            "iter 957001 cost: 0.155212\n",
            "iter 958001 cost: 0.212286\n",
            "iter 959001 cost: 0.209186\n",
            "iter 960001 cost: 0.206128\n",
            "iter 961001 cost: 0.203114\n",
            "iter 962001 cost: 0.200142\n",
            "iter 963001 cost: 0.197214\n",
            "iter 964001 cost: 0.199053\n",
            "iter 965001 cost: 0.196093\n",
            "iter 966001 cost: 0.193178\n",
            "iter 967001 cost: 0.190312\n",
            "iter 968001 cost: 0.187491\n",
            "iter 969001 cost: 0.184717\n",
            "iter 970001 cost: 0.181990\n",
            "iter 971001 cost: 0.179307\n",
            "iter 972001 cost: 0.176669\n",
            "iter 973001 cost: 0.174074\n",
            "iter 974001 cost: 0.171522\n",
            "iter 975001 cost: 0.169011\n",
            "iter 976001 cost: 0.207484\n",
            "iter 977001 cost: 0.204446\n",
            "iter 978001 cost: 0.201457\n",
            "iter 979001 cost: 0.198512\n",
            "iter 980001 cost: 0.195609\n",
            "iter 981001 cost: 0.192751\n",
            "iter 982001 cost: 0.189935\n",
            "iter 983001 cost: 0.187162\n",
            "iter 984001 cost: 0.184432\n",
            "iter 985001 cost: 0.181741\n",
            "iter 986001 cost: 0.179094\n",
            "iter 987001 cost: 0.197155\n",
            "iter 988001 cost: 0.194223\n",
            "iter 989001 cost: 0.191331\n",
            "iter 990001 cost: 0.188480\n",
            "iter 991001 cost: 0.185675\n",
            "iter 992001 cost: 0.182915\n",
            "iter 993001 cost: 0.180201\n",
            "iter 994001 cost: 0.177530\n",
            "iter 995001 cost: 0.174906\n",
            "iter 996001 cost: 0.172327\n",
            "iter 997001 cost: 0.169790\n",
            "iter 998001 cost: 0.167297\n",
            "iter 999001 cost: 0.168972\n",
            "Stopped by max iteration\n",
            "w: [[ 0.0098776 ]\n",
            " [ 0.00340655]\n",
            " [-0.00020928]\n",
            " ...\n",
            " [-0.01041994]\n",
            " [ 0.00069639]\n",
            " [-0.00509361]]\n",
            "b: [0.22630316]\n",
            "Running time: 1148.2615039348602\n",
            "accuracy:61.54 %\n"
          ]
        }
      ]
    },
    {
      "cell_type": "code",
      "metadata": {
        "colab": {
          "base_uri": "https://localhost:8080/"
        },
        "id": "cclUaAGrUdUx",
        "outputId": "1317652e-ebd0-4519-fcbc-38fcd1ba760a"
      },
      "source": [
        "sub_R_solution=np.vstack((result_colon['sub_R'][0],result_colon['sub_R'][1]))\n",
        "primal_R_solution=np.vstack((result_colon['primal_R'][0],result_colon['primal_R'][1]))\n",
        "\n",
        "print(' distance between sub_R solution and primal_R solution:', np.linalg.norm(sub_R_solution-primal_R_solution))"
      ],
      "execution_count": null,
      "outputs": [
        {
          "output_type": "stream",
          "name": "stdout",
          "text": [
            " distance between sub_R solution and primal_R solution: 0.759912487513211\n"
          ]
        }
      ]
    },
    {
      "cell_type": "code",
      "metadata": {
        "colab": {
          "base_uri": "https://localhost:8080/",
          "height": 335
        },
        "id": "vVEUBO3wjKhY",
        "outputId": "c95c2634-4366-4a93-adcb-5a2aeccac023"
      },
      "source": [
        "## plot\n",
        "\n",
        "import matplotlib.pyplot as plt\n",
        "\n",
        "plt.plot([i for i in range(it)], [np.log10(i-lst_cost[-1]) for i in lst_cost[:-1]], 'b-', color='red')\n",
        "\n",
        "plt.xlabel('Iteration')\n",
        "plt.ylabel('log_{10}(f_k-f*)')\n",
        "plt.grid(True)"
      ],
      "execution_count": null,
      "outputs": [
        {
          "output_type": "stream",
          "name": "stderr",
          "text": [
            "/usr/local/lib/python3.7/dist-packages/ipykernel_launcher.py:5: RuntimeWarning: invalid value encountered in log10\n",
            "  \"\"\"\n"
          ]
        },
        {
          "output_type": "display_data",
          "data": {
            "image/png": "[encoded data removed]",
            "text/plain": [
              "<Figure size 432x288 with 1 Axes>"
            ]
          },
          "metadata": {
            "needs_background": "light"
          }
        }
      ]
    },
    {
      "cell_type": "markdown",
      "metadata": {
        "id": "AIcOdggLNkob"
      },
      "source": [
        "## Task 3: Train by solve dual problem with $R=0$"
      ]
    },
    {
      "cell_type": "code",
      "metadata": {
        "colab": {
          "base_uri": "https://localhost:8080/"
        },
        "id": "f0Ijo0CBNkob",
        "outputId": "637d869d-ad4f-4080-e726-45e47ef5c8b0"
      },
      "source": [
        "#--measure time to run code\n",
        "start_time = time.time()\n",
        "\n",
        "#-- create initial w0=0,b0=0\n",
        "m,n=X_train_colon.shape\n",
        "w0=np.zeros((n,1))\n",
        "b0=0\n",
        "#--train--\n",
        "task_colon=SVM(X_train_colon,y_train_colon)\n",
        "w,b=task_colon.solver(dual=2,key=4)\n",
        "print('w:',w)\n",
        "print('b:',b)\n",
        "\n",
        "#--measure time to run code\n",
        "end_time = time.time()\n",
        "elapsed_time = end_time - start_time\n",
        "time_run_colon['dual']=elapsed_time\n",
        "print('Running time:',time_run_colon['dual'])\n",
        "\n",
        "#- save w,b\n",
        "result_colon['dual']=(w,b)\n",
        "\n",
        "#--predict\n",
        "y_predict_colon=task_colon.predict(X_test_colon)\n",
        "\n",
        "#--accuracy\n",
        "print('accuracy:{:.2f} %'.format(accuracy_score(y_predict_colon.reshape(-1,),y_test_colon.reshape(-1,))*100))\n",
        "\n",
        "\n"
      ],
      "execution_count": null,
      "outputs": [
        {
          "output_type": "stream",
          "name": "stdout",
          "text": [
            "solved by dual problem with Reg=0\n",
            "     pcost       dcost       gap    pres   dres\n",
            " 0:  1.2948e+02 -5.7485e+03  1e+04  2e-02  1e-13\n",
            " 1:  8.8080e+01 -3.9948e+02  8e+02  8e-04  6e-14\n",
            " 2:  2.5113e+01 -3.2837e+01  6e+01  2e-16  7e-14\n",
            " 3:  3.4634e+00 -4.1780e+00  8e+00  2e-16  3e-14\n",
            " 4:  4.4513e-01 -6.5608e-01  1e+00  2e-16  2e-14\n",
            " 5:  4.0596e-02 -1.1534e-01  2e-01  2e-16  4e-15\n",
            " 6: -7.2293e-03 -2.7860e-02  2e-02  2e-16  1e-15\n",
            " 7: -1.1225e-02 -1.2942e-02  2e-03  2e-16  7e-16\n",
            " 8: -1.1559e-02 -1.1699e-02  1e-04  2e-16  5e-16\n",
            " 9: -1.1606e-02 -1.1610e-02  4e-06  2e-16  6e-16\n",
            "10: -1.1608e-02 -1.1608e-02  4e-08  2e-16  6e-16\n",
            "11: -1.1608e-02 -1.1608e-02  4e-10  2e-16  5e-16\n",
            "12: -1.1608e-02 -1.1608e-02  4e-12  2e-16  5e-16\n",
            "Optimal solution found.\n",
            "w: [[ 0.00313482]\n",
            " [-0.00064282]\n",
            " [-0.00246087]\n",
            " ...\n",
            " [-0.00445039]\n",
            " [-0.00216628]\n",
            " [-0.00490985]]\n",
            "b: [-0.49607937]\n",
            "Running time: 0.030321598052978516\n",
            "accuracy:84.62 %\n"
          ]
        }
      ]
    },
    {
      "cell_type": "markdown",
      "metadata": {
        "id": "H7faAqU2YDTs"
      },
      "source": [
        "## Train by package sklearn.svm.SVC with $R=0$"
      ]
    },
    {
      "cell_type": "code",
      "metadata": {
        "colab": {
          "base_uri": "https://localhost:8080/"
        },
        "id": "NDPaHxsxYDTu",
        "outputId": "4e823f3d-ac99-416e-b6f5-bd45c16dbb74"
      },
      "source": [
        "from sklearn.svm import SVC\n",
        "#--measure time to run code\n",
        "start_time = time.time()\n",
        "print('solved by sklearn.svm.SVC')\n",
        "C = 100\n",
        "clf = SVC(kernel = 'linear', C = C)\n",
        "clf.fit(X_train_colon, y_train_colon.reshape((-1,)))\n",
        "\n",
        "w_sklearn = clf.coef_.reshape(-1, 1)\n",
        "b_sklearn = clf.intercept_[0]\n",
        "#-- save w,b\n",
        "result_colon['sklearn']=(w_sklearn,b_sklearn)\n",
        "print('w: ',w_sklearn)\n",
        "print('b: ',b_sklearn)\n",
        "\n",
        "#--measure time to run code\n",
        "end_time = time.time()\n",
        "elapsed_time = end_time - start_time\n",
        "time_run_colon['sklearn']=elapsed_time\n",
        "print('Running time:',time_run_colon['sklearn'])\n",
        "\n",
        "\n",
        "#--predict\n",
        "y_predict_colon = clf.predict(X_test_colon)\n",
        "\n",
        "\n",
        "#--accuracy\n",
        "print('accuracy:{:.2f} %'.format(accuracy_score(y_predict_colon.reshape(-1,),y_test_colon.reshape(-1,))*100))"
      ],
      "execution_count": null,
      "outputs": [
        {
          "output_type": "stream",
          "name": "stdout",
          "text": [
            "solved by sklearn.svm.SVC\n",
            "w:  [[ 0.00313429]\n",
            " [-0.00064252]\n",
            " [-0.00246048]\n",
            " ...\n",
            " [-0.00444992]\n",
            " [-0.00216481]\n",
            " [-0.00490751]]\n",
            "b:  -0.49607343317600394\n",
            "Running time: 0.013319730758666992\n",
            "accuracy:84.62 %\n"
          ]
        }
      ]
    },
    {
      "cell_type": "markdown",
      "metadata": {
        "id": "KPacc6ufHstJ"
      },
      "source": [
        "## Compare running time"
      ]
    },
    {
      "cell_type": "code",
      "metadata": {
        "colab": {
          "base_uri": "https://localhost:8080/",
          "height": 343
        },
        "id": "tXIXgFeDHstm",
        "outputId": "dd0f149d-faac-41e1-97d2-f839393a4107"
      },
      "source": [
        "fig, ax = plt.subplots()\n",
        "# plt.style.use('fivethirtyeight')\n",
        "ax.set( xlabel='Time', ylabel='Method',\n",
        "       title='''\n",
        "        Colon Cancer\n",
        "       Running time''')\n",
        "ax.barh(list(time_run_colon.keys()), list(time_run_colon.values()))"
      ],
      "execution_count": null,
      "outputs": [
        {
          "output_type": "execute_result",
          "data": {
            "text/plain": [
              "<BarContainer object of 6 artists>"
            ]
          },
          "metadata": {},
          "execution_count": 31
        },
        {
          "output_type": "display_data",
          "data": {
            "image/png": "[encoded data removed]",
            "text/plain": [
              "<Figure size 432x288 with 1 Axes>"
            ]
          },
          "metadata": {
            "needs_background": "light"
          }
        }
      ]
    },
    {
      "cell_type": "code",
      "metadata": {
        "colab": {
          "base_uri": "https://localhost:8080/",
          "height": 343
        },
        "id": "eAJytJOvvkOq",
        "outputId": "930f067e-6666-4472-d483-8364ca31c110"
      },
      "source": [
        "fig, ax = plt.subplots()\n",
        "# plt.style.use('fivethirtyeight')\n",
        "ax.set( xlabel='Time', ylabel='Method',\n",
        "       title='''\n",
        "        Colon Cancer\n",
        "       Running time''')\n",
        "a=time_run_colon.items()\n",
        "a=sorted(a,key= lambda x: x[1])\n",
        "# print(a)\n",
        "ax.barh([i[0] for i in a[:-2]], [i[1] for i in a[:-2]])"
      ],
      "execution_count": null,
      "outputs": [
        {
          "output_type": "execute_result",
          "data": {
            "text/plain": [
              "<BarContainer object of 4 artists>"
            ]
          },
          "metadata": {},
          "execution_count": 37
        },
        {
          "output_type": "display_data",
          "data": {
            "image/png": "[encoded data removed]",
            "text/plain": [
              "<Figure size 432x288 with 1 Axes>"
            ]
          },
          "metadata": {
            "needs_background": "light"
          }
        }
      ]
    },
    {
      "cell_type": "code",
      "metadata": {
        "id": "5UyVraWsiGsM"
      },
      "source": [],
      "execution_count": null,
      "outputs": []
    }
  ]
}